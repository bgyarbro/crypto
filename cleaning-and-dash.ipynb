{
 "cells": [
  {
   "cell_type": "code",
   "execution_count": 1,
   "metadata": {},
   "outputs": [],
   "source": [
    "from pymongo import MongoClient\n",
    "client = MongoClient(\"mongodb://localhost:27017/\")\n",
    "db = client.crypto\n",
    "collection = db.crypto_collection"
   ]
  },
  {
   "cell_type": "code",
   "execution_count": 2,
   "metadata": {},
   "outputs": [
    {
     "name": "stderr",
     "output_type": "stream",
     "text": [
      "C:\\ProgramData\\Anaconda3\\lib\\site-packages\\statsmodels\\tools\\_testing.py:19: FutureWarning: pandas.util.testing is deprecated. Use the functions in the public API at pandas.testing instead.\n",
      "  import pandas.util.testing as tm\n"
     ]
    }
   ],
   "source": [
    "import pandas as pd\n",
    "import numpy as np\n",
    "import seaborn as sns"
   ]
  },
  {
   "cell_type": "markdown",
   "metadata": {},
   "source": [
    "## Hyperparameters"
   ]
  },
  {
   "cell_type": "code",
   "execution_count": 20,
   "metadata": {},
   "outputs": [],
   "source": [
    "PRODUCT_ID = \"ETH-USD\"\n",
    "SHOW_DATA = False"
   ]
  },
  {
   "cell_type": "code",
   "execution_count": 4,
   "metadata": {},
   "outputs": [],
   "source": [
    "def make_data(collection):\n",
    "    df = pd.DataFrame.from_dict(collection.find({\"type\":\"ticker\", \"product_id\":PRODUCT_ID}))\n",
    "    df['date_time_float'] = pd.to_datetime(df.time).astype(int) / 10**9\n",
    "    df.price = df.price.astype(float)\n",
    "    df.open_24h = df.open_24h.astype(float)\n",
    "    df.volume_24h = df.volume_24h.astype(float)\n",
    "    df.low_24h = df.low_24h.astype(float)\n",
    "    df.high_24h = df.high_24h.astype(float)\n",
    "    df.volume_30d = df.volume_30d.astype(float)\n",
    "    df.best_bid = df.best_bid.astype(float)\n",
    "    df.best_ask = df.best_ask.astype(float)\n",
    "    df.trade_id = df.trade_id.astype(int)\n",
    "    df.time = pd.to_datetime(df.time)\n",
    "    \n",
    "    if SHOW_DATA:\n",
    "        print(df.head())\n",
    "        print(df.info())\n",
    "    \n",
    "    return df"
   ]
  },
  {
   "cell_type": "code",
   "execution_count": 5,
   "metadata": {},
   "outputs": [],
   "source": [
    "df = make_data(collection)"
   ]
  },
  {
   "cell_type": "code",
   "execution_count": 33,
   "metadata": {},
   "outputs": [
    {
     "data": {
      "text/plain": [
       "247135"
      ]
     },
     "execution_count": 33,
     "metadata": {},
     "output_type": "execute_result"
    }
   ],
   "source": [
    "collection.count()"
   ]
  },
  {
   "cell_type": "code",
   "execution_count": 7,
   "metadata": {},
   "outputs": [
    {
     "data": {
      "text/plain": [
       "29"
      ]
     },
     "execution_count": 7,
     "metadata": {},
     "output_type": "execute_result"
    }
   ],
   "source": [
    "collection.count({\"type\":\"ticker\"})"
   ]
  },
  {
   "cell_type": "code",
   "execution_count": 8,
   "metadata": {},
   "outputs": [],
   "source": [
    "ticker = collection.find_one({\"type\":\"ticker\", \"product_id\":PRODUCT_ID})"
   ]
  },
  {
   "cell_type": "code",
   "execution_count": 9,
   "metadata": {},
   "outputs": [],
   "source": [
    "if SHOW_DATA == True:\n",
    "    print(ticker)"
   ]
  },
  {
   "cell_type": "code",
   "execution_count": 10,
   "metadata": {},
   "outputs": [],
   "source": [
    "if SHOW_DATA:\n",
    "    print(list(ticker.keys()))"
   ]
  },
  {
   "cell_type": "code",
   "execution_count": 11,
   "metadata": {},
   "outputs": [],
   "source": [
    "if SHOW_DATA == True:\n",
    "    df.info()"
   ]
  },
  {
   "cell_type": "code",
   "execution_count": 12,
   "metadata": {},
   "outputs": [],
   "source": [
    "if SHOW_DATA == True:\n",
    "    df.describe()"
   ]
  },
  {
   "cell_type": "code",
   "execution_count": 13,
   "metadata": {},
   "outputs": [
    {
     "data": {
      "text/plain": [
       "BTC-USD    14\n",
       "Name: product_id, dtype: int64"
      ]
     },
     "execution_count": 13,
     "metadata": {},
     "output_type": "execute_result"
    }
   ],
   "source": [
    "df.product_id.value_counts()"
   ]
  },
  {
   "cell_type": "code",
   "execution_count": 23,
   "metadata": {},
   "outputs": [
    {
     "data": {
      "text/plain": [
       "<matplotlib.axes._subplots.AxesSubplot at 0x1f87dd4b408>"
      ]
     },
     "execution_count": 23,
     "metadata": {},
     "output_type": "execute_result"
    },
    {
     "data": {
      "image/png": "[encoded data removed]",
      "text/plain": [
       "<Figure size 432x288 with 1 Axes>"
      ]
     },
     "metadata": {
      "needs_background": "light"
     },
     "output_type": "display_data"
    }
   ],
   "source": [
    "sns.distplot(make_data(collection).price)"
   ]
  },
  {
   "cell_type": "code",
   "execution_count": 15,
   "metadata": {},
   "outputs": [],
   "source": [
    "df.time = df['time'].dt.tz_localize(None)"
   ]
  },
  {
   "cell_type": "code",
   "execution_count": 16,
   "metadata": {},
   "outputs": [
    {
     "name": "stdout",
     "output_type": "stream",
     "text": [
      "<class 'pandas.core.frame.DataFrame'>\n",
      "RangeIndex: 14 entries, 0 to 13\n",
      "Data columns (total 17 columns):\n",
      " #   Column           Non-Null Count  Dtype         \n",
      "---  ------           --------------  -----         \n",
      " 0   _id              14 non-null     object        \n",
      " 1   type             14 non-null     object        \n",
      " 2   sequence         14 non-null     int64         \n",
      " 3   product_id       14 non-null     object        \n",
      " 4   price            14 non-null     float64       \n",
      " 5   open_24h         14 non-null     float64       \n",
      " 6   volume_24h       14 non-null     float64       \n",
      " 7   low_24h          14 non-null     float64       \n",
      " 8   high_24h         14 non-null     float64       \n",
      " 9   volume_30d       14 non-null     float64       \n",
      " 10  best_bid         14 non-null     float64       \n",
      " 11  best_ask         14 non-null     float64       \n",
      " 12  side             14 non-null     object        \n",
      " 13  time             14 non-null     datetime64[ns]\n",
      " 14  trade_id         14 non-null     int32         \n",
      " 15  last_size        14 non-null     object        \n",
      " 16  date_time_float  14 non-null     float64       \n",
      "dtypes: datetime64[ns](1), float64(9), int32(1), int64(1), object(5)\n",
      "memory usage: 1.9+ KB\n"
     ]
    }
   ],
   "source": [
    "df.info()\n",
    "df.to_excel('ticker_data.xlsx', index=False)"
   ]
  },
  {
   "cell_type": "markdown",
   "metadata": {},
   "source": [
    "Check the distribution of time among data to see if the data are evenly spread"
   ]
  },
  {
   "cell_type": "code",
   "execution_count": 24,
   "metadata": {},
   "outputs": [
    {
     "data": {
      "text/plain": [
       "<matplotlib.axes._subplots.AxesSubplot at 0x1f87dfd9e88>"
      ]
     },
     "execution_count": 24,
     "metadata": {},
     "output_type": "execute_result"
    },
    {
     "data": {
      "image/png": "[encoded data removed]",
      "text/plain": [
       "<Figure size 432x288 with 1 Axes>"
      ]
     },
     "metadata": {
      "needs_background": "light"
     },
     "output_type": "display_data"
    }
   ],
   "source": [
    "sns.distplot(df.date_time_float)"
   ]
  },
  {
   "cell_type": "markdown",
   "metadata": {},
   "source": [
    "# Dash"
   ]
  },
  {
   "cell_type": "markdown",
   "metadata": {},
   "source": [
    "## From Simple Tutorial on Dash\n",
    "#### Working !!!"
   ]
  },
  {
   "cell_type": "code",
   "execution_count": 32,
   "metadata": {},
   "outputs": [],
   "source": [
    "def make_fig(df):\n",
    "    fig = px.scatter(df, x='time', y='price',\n",
    "                    template='plotly_dark')\n",
    "    fig.update_xaxes(rangeslider_visible=True) # add tick format\n",
    "    \n",
    "    return fig\n"
   ]
  },
  {
   "cell_type": "code",
   "execution_count": 22,
   "metadata": {},
   "outputs": [
    {
     "name": "stdout",
     "output_type": "stream",
     "text": [
      "Dash app running on http://127.0.0.1:8060/\n"
     ]
    }
   ],
   "source": [
    "import dash\n",
    "import dash_core_components as dcc\n",
    "import dash_html_components as html\n",
    "from dash.dependencies import Input, Output\n",
    "import plotly.express as px\n",
    "from jupyter_dash import JupyterDash\n",
    "import pandas as pd\n",
    "\n",
    "external_stylesheets = ['https://codepen.io/chriddyp/pen/bWLwgP.css']\n",
    "\n",
    "app = JupyterDash(__name__, external_stylesheets=external_stylesheets)\n",
    "\n",
    "# assume you have a \"long-form\" data frame\n",
    "# see https://plotly.com/python/px-arguments/ for more options\n",
    "df = make_data(collection)\n",
    "fig = make_fig(df)\n",
    "\n",
    "app.layout = html.Div(children=[\n",
    "    html.H1(children=PRODUCT_ID + ' Trend'),\n",
    "\n",
    "    html.Div(children='''\n",
    "        Dash: A web application framework for Python.\n",
    "    '''),\n",
    "\n",
    "    dcc.Graph(\n",
    "        id='live-graph',\n",
    "        figure=fig\n",
    "    ),\n",
    "    \n",
    "    dcc.Interval(\n",
    "                id='interval-component',\n",
    "                interval=1*1000, # in milliseconds\n",
    "                n_intervals=0\n",
    "            )\n",
    "])\n",
    "\n",
    "@app.callback(Output('live-graph', 'figure'),\n",
    "              [Input('interval-component', 'n_intervals')])\n",
    "def update_data(n):\n",
    "    df = make_data(collection)\n",
    "    fig = make_fig(df)\n",
    "    \n",
    "    return fig\n",
    "\n",
    "\n",
    "app.run_server(mode='external', port=8060, debug=True)"
   ]
  },
  {
   "cell_type": "code",
   "execution_count": 31,
   "metadata": {},
   "outputs": [],
   "source": [
    "# Darkk Mode"
   ]
  },
  {
   "cell_type": "code",
   "execution_count": 30,
   "metadata": {},
   "outputs": [
    {
     "name": "stdout",
     "output_type": "stream",
     "text": [
      "Dash app running on http://127.0.0.1:8060/\n"
     ]
    }
   ],
   "source": [
    "import dash\n",
    "import dash_core_components as dcc\n",
    "import dash_html_components as html\n",
    "from dash.dependencies import Input, Output\n",
    "import plotly.express as px\n",
    "from jupyter_dash import JupyterDash\n",
    "import pandas as pd\n",
    "\n",
    "external_stylesheets = ['https://codepen.io/chriddyp/pen/bWLwgP.css']\n",
    "\n",
    "app = JupyterDash(__name__, external_stylesheets=external_stylesheets)\n",
    "\n",
    "colors = {\n",
    "    'background': '#111111',\n",
    "    'text': '#7FDBFF'\n",
    "}\n",
    "\n",
    "# assume you have a \"long-form\" data frame\n",
    "# see https://plotly.com/python/px-arguments/ for more options\n",
    "df = make_data(collection)\n",
    "fig = make_fig(df)\n",
    "\n",
    "app.layout = html.Div(style={'backgroundColor': colors['background']}, children=[\n",
    "    html.H1(style={'color': colors['text']}, children=PRODUCT_ID + ' Trend'),\n",
    "\n",
    "    html.Div(style={'color': colors['text']}, children='''\n",
    "        Dash: A web application framework for Python.\n",
    "    '''),\n",
    "\n",
    "    dcc.Graph(\n",
    "        id='live-graph',\n",
    "        figure=fig\n",
    "    ),\n",
    "    \n",
    "    dcc.Interval(\n",
    "                id='interval-component',\n",
    "                interval=1*1000, # in milliseconds\n",
    "                n_intervals=0\n",
    "            )\n",
    "])\n",
    "\n",
    "@app.callback(Output('live-graph', 'figure'),\n",
    "              [Input('interval-component', 'n_intervals')])\n",
    "def update_data(n):\n",
    "    df = make_data(collection)\n",
    "    fig = make_fig(df)\n",
    "    \n",
    "    return fig\n",
    "\n",
    "\n",
    "app.run_server(mode='external', port=8060, debug=True)"
   ]
  },
  {
   "cell_type": "code",
   "execution_count": null,
   "metadata": {},
   "outputs": [],
   "source": []
  }
 ],
 "metadata": {
  "kernelspec": {
   "display_name": "Python 3",
   "language": "python",
   "name": "python3"
  },
  "language_info": {
   "codemirror_mode": {
    "name": "ipython",
    "version": 3
   },
   "file_extension": ".py",
   "mimetype": "text/x-python",
   "name": "python",
   "nbconvert_exporter": "python",
   "pygments_lexer": "ipython3",
   "version": "3.7.4"
  }
 },
 "nbformat": 4,
 "nbformat_minor": 2
}
