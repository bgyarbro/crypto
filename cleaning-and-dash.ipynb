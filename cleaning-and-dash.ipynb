{
 "cells": [
  {
   "cell_type": "code",
   "execution_count": 22,
   "metadata": {},
   "outputs": [],
   "source": [
    "from pymongo import MongoClient\n",
    "client = MongoClient(\"mongodb://localhost:27017/\")\n",
    "db = client.crypto\n",
    "collection = db.crypto_collection"
   ]
  },
  {
   "cell_type": "code",
   "execution_count": 23,
   "metadata": {},
   "outputs": [],
   "source": [
    "import pandas as pd\n",
    "import numpy as np\n",
    "import seaborn as sns"
   ]
  },
  {
   "cell_type": "markdown",
   "metadata": {},
   "source": [
    "## Hyperparameters"
   ]
  },
  {
   "cell_type": "code",
   "execution_count": 24,
   "metadata": {},
   "outputs": [],
   "source": [
    "PRODUCT_ID = \"BTC-USD\"\n",
    "SHOW_DATA = False"
   ]
  },
  {
   "cell_type": "code",
   "execution_count": 25,
   "metadata": {},
   "outputs": [],
   "source": [
    "def make_data(collection):\n",
    "    df = pd.DataFrame.from_dict(collection.find({\"type\":\"ticker\", \"product_id\":PRODUCT_ID}))\n",
    "    df['date_time_float'] = pd.to_datetime(df.time).astype(int) / 10**9\n",
    "    df.price = df.price.astype(float)\n",
    "    df.open_24h = df.open_24h.astype(float)\n",
    "    df.volume_24h = df.volume_24h.astype(float)\n",
    "    df.low_24h = df.low_24h.astype(float)\n",
    "    df.high_24h = df.high_24h.astype(float)\n",
    "    df.volume_30d = df.volume_30d.astype(float)\n",
    "    df.best_bid = df.best_bid.astype(float)\n",
    "    df.best_ask = df.best_ask.astype(float)\n",
    "    df.trade_id = df.trade_id.astype(int)\n",
    "    df.time = pd.to_datetime(df.time)\n",
    "    \n",
    "    if SHOW_DATA:\n",
    "        print(df.head())\n",
    "        print(df.info())\n",
    "    \n",
    "    return df"
   ]
  },
  {
   "cell_type": "code",
   "execution_count": 26,
   "metadata": {},
   "outputs": [],
   "source": [
    "df = make_data(collection)"
   ]
  },
  {
   "cell_type": "code",
   "execution_count": 27,
   "metadata": {},
   "outputs": [
    {
     "data": {
      "text/plain": [
       "2305"
      ]
     },
     "execution_count": 27,
     "metadata": {},
     "output_type": "execute_result"
    }
   ],
   "source": [
    "collection.count()"
   ]
  },
  {
   "cell_type": "code",
   "execution_count": 28,
   "metadata": {},
   "outputs": [
    {
     "data": {
      "text/plain": [
       "18"
      ]
     },
     "execution_count": 28,
     "metadata": {},
     "output_type": "execute_result"
    }
   ],
   "source": [
    "collection.count({\"type\":\"ticker\"})"
   ]
  },
  {
   "cell_type": "code",
   "execution_count": 29,
   "metadata": {},
   "outputs": [],
   "source": [
    "ticker = collection.find_one({\"type\":\"ticker\", \"product_id\":PRODUCT_ID})"
   ]
  },
  {
   "cell_type": "code",
   "execution_count": 30,
   "metadata": {},
   "outputs": [],
   "source": [
    "if SHOW_DATA == True:\n",
    "    print(ticker)"
   ]
  },
  {
   "cell_type": "code",
   "execution_count": 31,
   "metadata": {},
   "outputs": [],
   "source": [
    "if SHOW_DATA:\n",
    "    print(list(ticker.keys()))"
   ]
  },
  {
   "cell_type": "code",
   "execution_count": 32,
   "metadata": {},
   "outputs": [],
   "source": [
    "if SHOW_DATA == True:\n",
    "    df.info()"
   ]
  },
  {
   "cell_type": "code",
   "execution_count": 33,
   "metadata": {},
   "outputs": [],
   "source": [
    "if SHOW_DATA == True:\n",
    "    df.describe()"
   ]
  },
  {
   "cell_type": "code",
   "execution_count": 34,
   "metadata": {},
   "outputs": [
    {
     "data": {
      "text/plain": [
       "BTC-USD    9\n",
       "Name: product_id, dtype: int64"
      ]
     },
     "execution_count": 34,
     "metadata": {},
     "output_type": "execute_result"
    }
   ],
   "source": [
    "df.product_id.value_counts()"
   ]
  },
  {
   "cell_type": "code",
   "execution_count": 35,
   "metadata": {},
   "outputs": [
    {
     "data": {
      "text/plain": [
       "<matplotlib.axes._subplots.AxesSubplot at 0x12b09c9b308>"
      ]
     },
     "execution_count": 35,
     "metadata": {},
     "output_type": "execute_result"
    },
    {
     "data": {
      "image/png": "[encoded data removed]",
      "text/plain": [
       "<Figure size 432x288 with 1 Axes>"
      ]
     },
     "metadata": {
      "needs_background": "light"
     },
     "output_type": "display_data"
    }
   ],
   "source": [
    "sns.distplot(make_data(collection).price)"
   ]
  },
  {
   "cell_type": "code",
   "execution_count": 36,
   "metadata": {},
   "outputs": [],
   "source": [
    "df.time = df['time'].dt.tz_localize(None)"
   ]
  },
  {
   "cell_type": "code",
   "execution_count": 37,
   "metadata": {},
   "outputs": [
    {
     "name": "stdout",
     "output_type": "stream",
     "text": [
      "<class 'pandas.core.frame.DataFrame'>\n",
      "RangeIndex: 9 entries, 0 to 8\n",
      "Data columns (total 17 columns):\n",
      " #   Column           Non-Null Count  Dtype         \n",
      "---  ------           --------------  -----         \n",
      " 0   _id              9 non-null      object        \n",
      " 1   type             9 non-null      object        \n",
      " 2   sequence         9 non-null      int64         \n",
      " 3   product_id       9 non-null      object        \n",
      " 4   price            9 non-null      float64       \n",
      " 5   open_24h         9 non-null      float64       \n",
      " 6   volume_24h       9 non-null      float64       \n",
      " 7   low_24h          9 non-null      float64       \n",
      " 8   high_24h         9 non-null      float64       \n",
      " 9   volume_30d       9 non-null      float64       \n",
      " 10  best_bid         9 non-null      float64       \n",
      " 11  best_ask         9 non-null      float64       \n",
      " 12  side             9 non-null      object        \n",
      " 13  time             9 non-null      datetime64[ns]\n",
      " 14  trade_id         9 non-null      int32         \n",
      " 15  last_size        9 non-null      object        \n",
      " 16  date_time_float  9 non-null      float64       \n",
      "dtypes: datetime64[ns](1), float64(9), int32(1), int64(1), object(5)\n",
      "memory usage: 1.3+ KB\n"
     ]
    }
   ],
   "source": [
    "df.info()\n",
    "df.to_excel('ticker_data.xlsx', index=False)"
   ]
  },
  {
   "cell_type": "markdown",
   "metadata": {},
   "source": [
    "Check the distribution of time among data to see if the data are evenly spread"
   ]
  },
  {
   "cell_type": "code",
   "execution_count": 38,
   "metadata": {},
   "outputs": [
    {
     "data": {
      "text/plain": [
       "<matplotlib.axes._subplots.AxesSubplot at 0x12b09fd4b08>"
      ]
     },
     "execution_count": 38,
     "metadata": {},
     "output_type": "execute_result"
    },
    {
     "data": {
      "image/png": "[encoded data removed]",
      "text/plain": [
       "<Figure size 432x288 with 1 Axes>"
      ]
     },
     "metadata": {
      "needs_background": "light"
     },
     "output_type": "display_data"
    }
   ],
   "source": [
    "sns.distplot(df.date_time_float)"
   ]
  },
  {
   "cell_type": "markdown",
   "metadata": {},
   "source": [
    "# Dash"
   ]
  },
  {
   "cell_type": "markdown",
   "metadata": {},
   "source": [
    "## From Simple Tutorial on Dash\n",
    "#### Working !!!"
   ]
  },
  {
   "cell_type": "code",
   "execution_count": 39,
   "metadata": {},
   "outputs": [],
   "source": [
    "def make_fig(df):\n",
    "    fig = px.line(df, x='time', y='price')\n",
    "    fig.update_xaxes(rangeslider_visible=True) # add tick format\n",
    "    \n",
    "    return fig\n"
   ]
  },
  {
   "cell_type": "code",
   "execution_count": 40,
   "metadata": {},
   "outputs": [
    {
     "name": "stdout",
     "output_type": "stream",
     "text": [
      "Dash app running on http://127.0.0.1:8060/\n"
     ]
    }
   ],
   "source": [
    "import dash\n",
    "import dash_core_components as dcc\n",
    "import dash_html_components as html\n",
    "from dash.dependencies import Input, Output\n",
    "import plotly.express as px\n",
    "from jupyter_dash import JupyterDash\n",
    "import pandas as pd\n",
    "\n",
    "external_stylesheets = ['https://codepen.io/chriddyp/pen/bWLwgP.css']\n",
    "\n",
    "app = JupyterDash(__name__, external_stylesheets=external_stylesheets)\n",
    "\n",
    "# assume you have a \"long-form\" data frame\n",
    "# see https://plotly.com/python/px-arguments/ for more options\n",
    "df = make_data(collection)\n",
    "fig = make_fig(df)\n",
    "\n",
    "app.layout = html.Div(children=[\n",
    "    html.H1(children=PRODUCT_ID + ' Trend'),\n",
    "\n",
    "    html.Div(children='''\n",
    "        Dash: A web application framework for Python.\n",
    "    '''),\n",
    "\n",
    "    dcc.Graph(\n",
    "        id='live-graph',\n",
    "        figure=fig\n",
    "    ),\n",
    "    \n",
    "    dcc.Interval(\n",
    "                id='interval-component',\n",
    "                interval=1*1000, # in milliseconds\n",
    "                n_intervals=0\n",
    "            )\n",
    "])\n",
    "\n",
    "@app.callback(Output('live-graph', 'figure'),\n",
    "              [Input('interval-component', 'n_intervals')])\n",
    "def update_data(n):\n",
    "    df = make_data(collection)\n",
    "    fig = make_fig(df)\n",
    "    \n",
    "    return fig\n",
    "\n",
    "\n",
    "app.run_server(mode='external', port=8060, debug=True)"
   ]
  },
  {
   "cell_type": "code",
   "execution_count": null,
   "metadata": {},
   "outputs": [],
   "source": []
  },
  {
   "cell_type": "code",
   "execution_count": null,
   "metadata": {},
   "outputs": [],
   "source": []
  }
 ],
 "metadata": {
  "kernelspec": {
   "display_name": "Python 3",
   "language": "python",
   "name": "python3"
  },
  "language_info": {
   "codemirror_mode": {
    "name": "ipython",
    "version": 3
   },
   "file_extension": ".py",
   "mimetype": "text/x-python",
   "name": "python",
   "nbconvert_exporter": "python",
   "pygments_lexer": "ipython3",
   "version": "3.7.4"
  }
 },
 "nbformat": 4,
 "nbformat_minor": 2
}
