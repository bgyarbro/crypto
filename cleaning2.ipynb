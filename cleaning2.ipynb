{
 "cells": [
  {
   "cell_type": "code",
   "execution_count": 2,
   "metadata": {},
   "outputs": [],
   "source": [
    "from pymongo import MongoClient\n",
    "client = MongoClient(\"mongodb://localhost:27017/\")\n",
    "db = client.test_database\n",
    "collection = db.crypto_collection"
   ]
  },
  {
   "cell_type": "code",
   "execution_count": 3,
   "metadata": {},
   "outputs": [
    {
     "name": "stderr",
     "output_type": "stream",
     "text": [
      "C:\\ProgramData\\Anaconda3\\lib\\site-packages\\statsmodels\\tools\\_testing.py:19: FutureWarning: pandas.util.testing is deprecated. Use the functions in the public API at pandas.testing instead.\n",
      "  import pandas.util.testing as tm\n"
     ]
    }
   ],
   "source": [
    "import pandas as pd\n",
    "import numpy as np\n",
    "import seaborn as sns"
   ]
  },
  {
   "cell_type": "code",
   "execution_count": 4,
   "metadata": {},
   "outputs": [],
   "source": [
    "import os\n",
    "import dash\n",
    "import dash_core_components as dcc\n",
    "import dash_html_components as html\n",
    "import pandas as pd\n",
    "#import cdata.mongodb as mod\n",
    "import plotly.graph_objs as go"
   ]
  },
  {
   "cell_type": "markdown",
   "metadata": {},
   "source": [
    "## Hyperparameters"
   ]
  },
  {
   "cell_type": "code",
   "execution_count": 5,
   "metadata": {},
   "outputs": [],
   "source": [
    "PRODUCT_ID = \"ETH-USD\"\n",
    "SHOW_DATA = True"
   ]
  },
  {
   "cell_type": "code",
   "execution_count": 6,
   "metadata": {},
   "outputs": [
    {
     "data": {
      "text/plain": [
       "323478"
      ]
     },
     "execution_count": 6,
     "metadata": {},
     "output_type": "execute_result"
    }
   ],
   "source": [
    "collection.count()"
   ]
  },
  {
   "cell_type": "code",
   "execution_count": 7,
   "metadata": {},
   "outputs": [
    {
     "data": {
      "text/plain": [
       "2316"
      ]
     },
     "execution_count": 7,
     "metadata": {},
     "output_type": "execute_result"
    }
   ],
   "source": [
    "collection.count({\"type\":\"ticker\"})"
   ]
  },
  {
   "cell_type": "code",
   "execution_count": 8,
   "metadata": {},
   "outputs": [],
   "source": [
    "ticker = collection.find_one({\"type\":\"ticker\", \"product_id\":PRODUCT_ID})"
   ]
  },
  {
   "cell_type": "code",
   "execution_count": 9,
   "metadata": {},
   "outputs": [
    {
     "name": "stdout",
     "output_type": "stream",
     "text": [
      "{'_id': ObjectId('5f2e6756962d5662c066d7d4'), 'type': 'ticker', 'sequence': 9933459780, 'product_id': 'ETH-USD', 'price': '379.1', 'open_24h': '395.71000000', 'volume_24h': '233259.20714581', 'low_24h': '362.88000000', 'high_24h': '398.05000000', 'volume_30d': '5390577.96494267', 'best_bid': '379.08', 'best_ask': '379.10', 'side': 'buy', 'time': '2020-08-08T08:50:10.572680Z', 'trade_id': 61514684, 'last_size': '0.04855892'}\n"
     ]
    }
   ],
   "source": [
    "if SHOW_DATA == True:\n",
    "    print(ticker)"
   ]
  },
  {
   "cell_type": "code",
   "execution_count": 10,
   "metadata": {},
   "outputs": [
    {
     "name": "stdout",
     "output_type": "stream",
     "text": [
      "['_id', 'type', 'sequence', 'product_id', 'price', 'open_24h', 'volume_24h', 'low_24h', 'high_24h', 'volume_30d', 'best_bid', 'best_ask', 'side', 'time', 'trade_id', 'last_size']\n"
     ]
    }
   ],
   "source": [
    "if SHOW_DATA == True:\n",
    "    print(list(ticker.keys()))"
   ]
  },
  {
   "cell_type": "code",
   "execution_count": 11,
   "metadata": {},
   "outputs": [],
   "source": [
    "df = pd.DataFrame.from_dict(collection.find({\"type\":\"ticker\"}))"
   ]
  },
  {
   "cell_type": "code",
   "execution_count": 12,
   "metadata": {},
   "outputs": [
    {
     "name": "stdout",
     "output_type": "stream",
     "text": [
      "                        _id    type     sequence product_id     price  \\\n",
      "0  5f2e6755962d5662c066d7d0  ticker   2217288584    ETH-BTC    0.0327   \n",
      "1  5f2e6756962d5662c066d7d2  ticker   4632573187    ETH-EUR    321.95   \n",
      "2  5f2e6756962d5662c066d7d4  ticker   9933459780    ETH-USD     379.1   \n",
      "3  5f2e6757962d5662c066d7d7  ticker  15606127217    BTC-USD  11600.77   \n",
      "4  5f2e6757962d5662c066d7dc  ticker   4632573325    ETH-EUR    321.95   \n",
      "\n",
      "         open_24h       volume_24h         low_24h        high_24h  \\\n",
      "0      0.03343000   31330.14609292      0.03176000      0.03364000   \n",
      "1    335.15000000   38064.01920198    308.00000000    336.92000000   \n",
      "2    395.71000000  233259.20714581    362.88000000    398.05000000   \n",
      "3  11825.01000000   20586.56463325  11350.00000000  11852.37000000   \n",
      "4    335.15000000   38066.69404025    308.00000000    336.92000000   \n",
      "\n",
      "         volume_30d  best_bid  best_ask side                         time  \\\n",
      "0   899284.26983724   0.03269   0.03270  buy  2020-08-08T08:50:23.154868Z   \n",
      "1   845509.27787598    321.79    321.95  buy  2020-08-08T08:50:19.267031Z   \n",
      "2  5390577.96494267    379.08    379.10  buy  2020-08-08T08:50:10.572680Z   \n",
      "3   382844.94903980  11600.76  11600.77  buy  2020-08-08T08:50:23.638226Z   \n",
      "4   845511.95271425    321.80    321.95  buy  2020-08-08T08:50:26.919951Z   \n",
      "\n",
      "   trade_id   last_size  \n",
      "0  10105200  0.27041764  \n",
      "1  10062606  0.20401178  \n",
      "2  61514684  0.04855892  \n",
      "3  99347767  0.04909364  \n",
      "4  10062607  2.67483827  \n"
     ]
    }
   ],
   "source": [
    "if SHOW_DATA == True:\n",
    "    print(df.head())"
   ]
  },
  {
   "cell_type": "code",
   "execution_count": 13,
   "metadata": {},
   "outputs": [
    {
     "name": "stdout",
     "output_type": "stream",
     "text": [
      "<class 'pandas.core.frame.DataFrame'>\n",
      "RangeIndex: 2316 entries, 0 to 2315\n",
      "Data columns (total 16 columns):\n",
      " #   Column      Non-Null Count  Dtype \n",
      "---  ------      --------------  ----- \n",
      " 0   _id         2316 non-null   object\n",
      " 1   type        2316 non-null   object\n",
      " 2   sequence    2316 non-null   int64 \n",
      " 3   product_id  2316 non-null   object\n",
      " 4   price       2316 non-null   object\n",
      " 5   open_24h    2316 non-null   object\n",
      " 6   volume_24h  2316 non-null   object\n",
      " 7   low_24h     2316 non-null   object\n",
      " 8   high_24h    2316 non-null   object\n",
      " 9   volume_30d  2316 non-null   object\n",
      " 10  best_bid    2316 non-null   object\n",
      " 11  best_ask    2316 non-null   object\n",
      " 12  side        2316 non-null   object\n",
      " 13  time        2316 non-null   object\n",
      " 14  trade_id    2316 non-null   int64 \n",
      " 15  last_size   2316 non-null   object\n",
      "dtypes: int64(2), object(14)\n",
      "memory usage: 289.6+ KB\n"
     ]
    }
   ],
   "source": [
    "if SHOW_DATA == True:\n",
    "    df.info()"
   ]
  },
  {
   "cell_type": "code",
   "execution_count": 14,
   "metadata": {},
   "outputs": [],
   "source": [
    "df['date_time_float'] = pd.to_datetime(df.time).astype(int) / 10**9"
   ]
  },
  {
   "cell_type": "code",
   "execution_count": 15,
   "metadata": {},
   "outputs": [],
   "source": [
    "df.price = df.price.astype(float)\n",
    "df.open_24h = df.open_24h.astype(float)\n",
    "df.volume_24h = df.volume_24h.astype(float)\n",
    "df.low_24h = df.low_24h.astype(float)\n",
    "df.high_24h = df.high_24h.astype(float)\n",
    "df.volume_30d = df.volume_30d.astype(float)\n",
    "df.best_bid = df.best_bid.astype(float)\n",
    "df.best_ask = df.best_ask.astype(float)\n",
    "df.trade_id = df.trade_id.astype(int)\n",
    "df.time = pd.to_datetime(df.time)"
   ]
  },
  {
   "cell_type": "code",
   "execution_count": 16,
   "metadata": {},
   "outputs": [
    {
     "name": "stdout",
     "output_type": "stream",
     "text": [
      "<class 'pandas.core.frame.DataFrame'>\n",
      "RangeIndex: 2316 entries, 0 to 2315\n",
      "Data columns (total 17 columns):\n",
      " #   Column           Non-Null Count  Dtype              \n",
      "---  ------           --------------  -----              \n",
      " 0   _id              2316 non-null   object             \n",
      " 1   type             2316 non-null   object             \n",
      " 2   sequence         2316 non-null   int64              \n",
      " 3   product_id       2316 non-null   object             \n",
      " 4   price            2316 non-null   float64            \n",
      " 5   open_24h         2316 non-null   float64            \n",
      " 6   volume_24h       2316 non-null   float64            \n",
      " 7   low_24h          2316 non-null   float64            \n",
      " 8   high_24h         2316 non-null   float64            \n",
      " 9   volume_30d       2316 non-null   float64            \n",
      " 10  best_bid         2316 non-null   float64            \n",
      " 11  best_ask         2316 non-null   float64            \n",
      " 12  side             2316 non-null   object             \n",
      " 13  time             2316 non-null   datetime64[ns, UTC]\n",
      " 14  trade_id         2316 non-null   int32              \n",
      " 15  last_size        2316 non-null   object             \n",
      " 16  date_time_float  2316 non-null   float64            \n",
      "dtypes: datetime64[ns, UTC](1), float64(9), int32(1), int64(1), object(5)\n",
      "memory usage: 298.7+ KB\n"
     ]
    }
   ],
   "source": [
    "if SHOW_DATA == True:\n",
    "    df.info()"
   ]
  },
  {
   "cell_type": "code",
   "execution_count": 17,
   "metadata": {},
   "outputs": [],
   "source": [
    "if SHOW_DATA == True:\n",
    "    df.describe()"
   ]
  },
  {
   "cell_type": "code",
   "execution_count": 18,
   "metadata": {},
   "outputs": [
    {
     "data": {
      "text/plain": [
       "BTC-USD    1268\n",
       "ETH-USD     639\n",
       "ETH-EUR     293\n",
       "ETH-BTC     116\n",
       "Name: product_id, dtype: int64"
      ]
     },
     "execution_count": 18,
     "metadata": {},
     "output_type": "execute_result"
    }
   ],
   "source": [
    "df.product_id.value_counts()"
   ]
  },
  {
   "cell_type": "code",
   "execution_count": 19,
   "metadata": {},
   "outputs": [
    {
     "name": "stdout",
     "output_type": "stream",
     "text": [
      "<class 'pandas.core.frame.DataFrame'>\n",
      "Int64Index: 639 entries, 2 to 2313\n",
      "Data columns (total 17 columns):\n",
      " #   Column           Non-Null Count  Dtype              \n",
      "---  ------           --------------  -----              \n",
      " 0   _id              639 non-null    object             \n",
      " 1   type             639 non-null    object             \n",
      " 2   sequence         639 non-null    int64              \n",
      " 3   product_id       639 non-null    object             \n",
      " 4   price            639 non-null    float64            \n",
      " 5   open_24h         639 non-null    float64            \n",
      " 6   volume_24h       639 non-null    float64            \n",
      " 7   low_24h          639 non-null    float64            \n",
      " 8   high_24h         639 non-null    float64            \n",
      " 9   volume_30d       639 non-null    float64            \n",
      " 10  best_bid         639 non-null    float64            \n",
      " 11  best_ask         639 non-null    float64            \n",
      " 12  side             639 non-null    object             \n",
      " 13  time             639 non-null    datetime64[ns, UTC]\n",
      " 14  trade_id         639 non-null    int32              \n",
      " 15  last_size        639 non-null    object             \n",
      " 16  date_time_float  639 non-null    float64            \n",
      "dtypes: datetime64[ns, UTC](1), float64(9), int32(1), int64(1), object(5)\n",
      "memory usage: 87.4+ KB\n",
      "None\n"
     ]
    }
   ],
   "source": [
    "coin = df.loc[df.product_id == PRODUCT_ID,:]\n",
    "if SHOW_DATA == True:\n",
    "    print(coin.info())"
   ]
  },
  {
   "cell_type": "code",
   "execution_count": 20,
   "metadata": {},
   "outputs": [
    {
     "data": {
      "text/plain": [
       "<matplotlib.axes._subplots.AxesSubplot at 0x214bb9a2bc8>"
      ]
     },
     "execution_count": 20,
     "metadata": {},
     "output_type": "execute_result"
    },
    {
     "data": {
      "image/png": "[encoded data removed]",
      "text/plain": [
       "<Figure size 432x288 with 1 Axes>"
      ]
     },
     "metadata": {
      "needs_background": "light"
     },
     "output_type": "display_data"
    }
   ],
   "source": [
    "sns.distplot(coin.price)"
   ]
  },
  {
   "cell_type": "code",
   "execution_count": 21,
   "metadata": {},
   "outputs": [
    {
     "data": {
      "text/plain": [
       "380.16167449139226"
      ]
     },
     "execution_count": 21,
     "metadata": {},
     "output_type": "execute_result"
    }
   ],
   "source": [
    "coin.price.mean()"
   ]
  },
  {
   "cell_type": "markdown",
   "metadata": {},
   "source": [
    "Check the distribution of time among data to see if the data are evenly spread"
   ]
  },
  {
   "cell_type": "code",
   "execution_count": 22,
   "metadata": {},
   "outputs": [
    {
     "data": {
      "text/plain": [
       "<matplotlib.axes._subplots.AxesSubplot at 0x214bb9d2088>"
      ]
     },
     "execution_count": 22,
     "metadata": {},
     "output_type": "execute_result"
    },
    {
     "data": {
      "image/png": "[encoded data removed]",
      "text/plain": [
       "<Figure size 432x288 with 1 Axes>"
      ]
     },
     "metadata": {
      "needs_background": "light"
     },
     "output_type": "display_data"
    }
   ],
   "source": [
    "sns.distplot(df.date_time_float)"
   ]
  },
  {
   "cell_type": "markdown",
   "metadata": {},
   "source": [
    "# Dash"
   ]
  },
  {
   "cell_type": "code",
   "execution_count": null,
   "metadata": {},
   "outputs": [],
   "source": []
  },
  {
   "cell_type": "code",
   "execution_count": null,
   "metadata": {},
   "outputs": [],
   "source": []
  },
  {
   "cell_type": "markdown",
   "metadata": {},
   "source": [
    "## From Simple Tutorial on Dash\n",
    "#### Working !!!"
   ]
  },
  {
   "cell_type": "code",
   "execution_count": 31,
   "metadata": {},
   "outputs": [
    {
     "data": {
      "text/html": [
       "\n",
       "        <iframe\n",
       "            width=\"100%\"\n",
       "            height=\"650\"\n",
       "            src=\"http://127.0.0.1:8050/\"\n",
       "            frameborder=\"0\"\n",
       "            allowfullscreen\n",
       "        ></iframe>\n",
       "        "
      ],
      "text/plain": [
       "<IPython.lib.display.IFrame at 0x214bdfdf2c8>"
      ]
     },
     "metadata": {},
     "output_type": "display_data"
    }
   ],
   "source": [
    "import dash\n",
    "import dash_core_components as dcc\n",
    "import dash_html_components as html\n",
    "import plotly.express as px\n",
    "from jupyter_dash import JupyterDash\n",
    "import pandas as pd\n",
    "\n",
    "external_stylesheets = ['https://codepen.io/chriddyp/pen/bWLwgP.css']\n",
    "\n",
    "app = JupyterDash(__name__, external_stylesheets=external_stylesheets)\n",
    "\n",
    "# assume you have a \"long-form\" data frame\n",
    "# see https://plotly.com/python/px-arguments/ for more options\n",
    "df = coin\n",
    "fig = px.scatter(df, x=\"date_time_float\", y=\"price\", color=\"side\")\n",
    "\n",
    "app.layout = html.Div(children=[\n",
    "    html.H1(children=PRODUCT_ID + ' Trend'),\n",
    "\n",
    "    html.Div(children='''\n",
    "        Dash: A web application framework for Python.\n",
    "    '''),\n",
    "\n",
    "    dcc.Graph(\n",
    "        id='graph',\n",
    "        figure=fig\n",
    "    )\n",
    "])\n",
    "\n",
    "app.run_server(mode='inline')"
   ]
  },
  {
   "cell_type": "code",
   "execution_count": null,
   "metadata": {},
   "outputs": [],
   "source": []
  },
  {
   "cell_type": "code",
   "execution_count": null,
   "metadata": {},
   "outputs": [],
   "source": []
  },
  {
   "cell_type": "code",
   "execution_count": 36,
   "metadata": {},
   "outputs": [],
   "source": []
  },
  {
   "cell_type": "code",
   "execution_count": 37,
   "metadata": {},
   "outputs": [],
   "source": []
  },
  {
   "cell_type": "code",
   "execution_count": null,
   "metadata": {},
   "outputs": [],
   "source": []
  },
  {
   "cell_type": "code",
   "execution_count": null,
   "metadata": {},
   "outputs": [],
   "source": []
  },
  {
   "cell_type": "code",
   "execution_count": null,
   "metadata": {},
   "outputs": [],
   "source": []
  },
  {
   "cell_type": "code",
   "execution_count": null,
   "metadata": {},
   "outputs": [],
   "source": []
  },
  {
   "cell_type": "code",
   "execution_count": null,
   "metadata": {},
   "outputs": [],
   "source": []
  },
  {
   "cell_type": "code",
   "execution_count": 23,
   "metadata": {},
   "outputs": [
    {
     "data": {
      "text/html": [
       "\n",
       "        <iframe\n",
       "            width=\"100%\"\n",
       "            height=\"650\"\n",
       "            src=\"http://127.0.0.1:8050/\"\n",
       "            frameborder=\"0\"\n",
       "            allowfullscreen\n",
       "        ></iframe>\n",
       "        "
      ],
      "text/plain": [
       "<IPython.lib.display.IFrame at 0x214a78fb308>"
      ]
     },
     "metadata": {},
     "output_type": "display_data"
    }
   ],
   "source": [
    "import plotly.express as px\n",
    "from jupyter_dash import JupyterDash\n",
    "import dash_core_components as dcc\n",
    "import dash_html_components as html\n",
    "from dash.dependencies import Input, Output\n",
    "# Load Data\n",
    "df = px.data.tips()\n",
    "# Build App\n",
    "app = JupyterDash(__name__)\n",
    "app.layout = html.Div([\n",
    "    html.H1(\"JupyterDash Demo\"),\n",
    "    dcc.Graph(id='graph'),\n",
    "    html.Label([\n",
    "        \"colorscale\",\n",
    "        dcc.Dropdown(\n",
    "            id='colorscale-dropdown', clearable=False,\n",
    "            value='plasma', options=[\n",
    "                {'label': c, 'value': c}\n",
    "                for c in px.colors.named_colorscales()\n",
    "            ])\n",
    "    ]),\n",
    "])\n",
    "# Define callback to update graph\n",
    "@app.callback(\n",
    "    Output('graph', 'figure'),\n",
    "    [Input(\"colorscale-dropdown\", \"value\")]\n",
    ")\n",
    "def update_figure(colorscale):\n",
    "    return px.scatter(\n",
    "        coin, x=\"date_time_float\", y=\"price\", color=\"side\",\n",
    "        color_continuous_scale=colorscale,\n",
    "        render_mode=\"webgl\", title=\"Tips\"\n",
    "    )\n",
    "# Run app and display result inline in the notebook\n",
    "app.run_server(mode='inline')"
   ]
  }
 ],
 "metadata": {
  "kernelspec": {
   "display_name": "Python 3",
   "language": "python",
   "name": "python3"
  },
  "language_info": {
   "codemirror_mode": {
    "name": "ipython",
    "version": 3
   },
   "file_extension": ".py",
   "mimetype": "text/x-python",
   "name": "python",
   "nbconvert_exporter": "python",
   "pygments_lexer": "ipython3",
   "version": "3.7.4"
  }
 },
 "nbformat": 4,
 "nbformat_minor": 2
}
