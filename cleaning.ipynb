{
 "cells": [
  {
   "cell_type": "code",
   "execution_count": 1,
   "metadata": {},
   "outputs": [],
   "source": [
    "from pymongo import MongoClient\n",
    "client = MongoClient(\"mongodb://localhost:27017/\")\n",
    "db = client.test_database\n",
    "collection = db.crypto_collection"
   ]
  },
  {
   "cell_type": "code",
   "execution_count": 2,
   "metadata": {},
   "outputs": [
    {
     "name": "stderr",
     "output_type": "stream",
     "text": [
      "C:\\ProgramData\\Anaconda3\\lib\\site-packages\\statsmodels\\tools\\_testing.py:19: FutureWarning: pandas.util.testing is deprecated. Use the functions in the public API at pandas.testing instead.\n",
      "  import pandas.util.testing as tm\n"
     ]
    }
   ],
   "source": [
    "import pandas as pd\n",
    "import numpy as np\n",
    "import seaborn as sns"
   ]
  },
  {
   "cell_type": "code",
   "execution_count": 3,
   "metadata": {},
   "outputs": [],
   "source": [
    "import altair as alt"
   ]
  },
  {
   "cell_type": "code",
   "execution_count": 4,
   "metadata": {},
   "outputs": [],
   "source": [
    "PRODUCT_ID = \"ETH-USD\""
   ]
  },
  {
   "cell_type": "code",
   "execution_count": 5,
   "metadata": {},
   "outputs": [
    {
     "data": {
      "text/plain": [
       "211881"
      ]
     },
     "execution_count": 5,
     "metadata": {},
     "output_type": "execute_result"
    }
   ],
   "source": [
    "collection.count()"
   ]
  },
  {
   "cell_type": "code",
   "execution_count": 6,
   "metadata": {},
   "outputs": [
    {
     "data": {
      "text/plain": [
       "1837"
      ]
     },
     "execution_count": 6,
     "metadata": {},
     "output_type": "execute_result"
    }
   ],
   "source": [
    "collection.count({\"type\":\"ticker\"})"
   ]
  },
  {
   "cell_type": "code",
   "execution_count": 7,
   "metadata": {},
   "outputs": [],
   "source": [
    "ticker = collection.find_one({\"type\":\"ticker\", \"product_id\":PRODUCT_ID})"
   ]
  },
  {
   "cell_type": "code",
   "execution_count": 8,
   "metadata": {},
   "outputs": [
    {
     "data": {
      "text/plain": [
       "{'_id': ObjectId('5f2d3948962d560df00c9ba5'),\n",
       " 'type': 'ticker',\n",
       " 'sequence': 9922849610,\n",
       " 'product_id': 'ETH-USD',\n",
       " 'price': '394.44',\n",
       " 'open_24h': '394.24000000',\n",
       " 'volume_24h': '150237.32444375',\n",
       " 'low_24h': '391.00000000',\n",
       " 'high_24h': '401.27000000',\n",
       " 'volume_30d': '5288438.98779041',\n",
       " 'best_bid': '394.40',\n",
       " 'best_ask': '394.44',\n",
       " 'side': 'buy',\n",
       " 'time': '2020-08-07T11:21:40.903975Z',\n",
       " 'trade_id': 61448885,\n",
       " 'last_size': '0.12109596'}"
      ]
     },
     "execution_count": 8,
     "metadata": {},
     "output_type": "execute_result"
    }
   ],
   "source": [
    "ticker"
   ]
  },
  {
   "cell_type": "code",
   "execution_count": 9,
   "metadata": {},
   "outputs": [
    {
     "data": {
      "text/plain": [
       "['_id',\n",
       " 'type',\n",
       " 'sequence',\n",
       " 'product_id',\n",
       " 'price',\n",
       " 'open_24h',\n",
       " 'volume_24h',\n",
       " 'low_24h',\n",
       " 'high_24h',\n",
       " 'volume_30d',\n",
       " 'best_bid',\n",
       " 'best_ask',\n",
       " 'side',\n",
       " 'time',\n",
       " 'trade_id',\n",
       " 'last_size']"
      ]
     },
     "execution_count": 9,
     "metadata": {},
     "output_type": "execute_result"
    }
   ],
   "source": [
    "list(ticker.keys())"
   ]
  },
  {
   "cell_type": "code",
   "execution_count": null,
   "metadata": {},
   "outputs": [],
   "source": []
  },
  {
   "cell_type": "code",
   "execution_count": 10,
   "metadata": {},
   "outputs": [],
   "source": [
    "df = pd.DataFrame.from_dict(collection.find({\"type\":\"ticker\"}))"
   ]
  },
  {
   "cell_type": "code",
   "execution_count": 11,
   "metadata": {},
   "outputs": [
    {
     "data": {
      "text/html": [
       "<div>\n",
       "<style scoped>\n",
       "    .dataframe tbody tr th:only-of-type {\n",
       "        vertical-align: middle;\n",
       "    }\n",
       "\n",
       "    .dataframe tbody tr th {\n",
       "        vertical-align: top;\n",
       "    }\n",
       "\n",
       "    .dataframe thead th {\n",
       "        text-align: right;\n",
       "    }\n",
       "</style>\n",
       "<table border=\"1\" class=\"dataframe\">\n",
       "  <thead>\n",
       "    <tr style=\"text-align: right;\">\n",
       "      <th></th>\n",
       "      <th>_id</th>\n",
       "      <th>type</th>\n",
       "      <th>sequence</th>\n",
       "      <th>product_id</th>\n",
       "      <th>price</th>\n",
       "      <th>open_24h</th>\n",
       "      <th>volume_24h</th>\n",
       "      <th>low_24h</th>\n",
       "      <th>high_24h</th>\n",
       "      <th>volume_30d</th>\n",
       "      <th>best_bid</th>\n",
       "      <th>best_ask</th>\n",
       "      <th>side</th>\n",
       "      <th>time</th>\n",
       "      <th>trade_id</th>\n",
       "      <th>last_size</th>\n",
       "    </tr>\n",
       "  </thead>\n",
       "  <tbody>\n",
       "    <tr>\n",
       "      <th>0</th>\n",
       "      <td>5f2d3948962d560df00c9ba1</td>\n",
       "      <td>ticker</td>\n",
       "      <td>2215518589</td>\n",
       "      <td>ETH-BTC</td>\n",
       "      <td>0.03352</td>\n",
       "      <td>0.03374000</td>\n",
       "      <td>21835.28768411</td>\n",
       "      <td>0.03337000</td>\n",
       "      <td>0.03384000</td>\n",
       "      <td>891625.19006849</td>\n",
       "      <td>0.03351</td>\n",
       "      <td>0.03352</td>\n",
       "      <td>buy</td>\n",
       "      <td>2020-08-07T11:21:13.238814Z</td>\n",
       "      <td>10094140</td>\n",
       "      <td>0.01621807</td>\n",
       "    </tr>\n",
       "    <tr>\n",
       "      <th>1</th>\n",
       "      <td>5f2d3948962d560df00c9ba3</td>\n",
       "      <td>ticker</td>\n",
       "      <td>4627012291</td>\n",
       "      <td>ETH-EUR</td>\n",
       "      <td>334.48</td>\n",
       "      <td>333.48000000</td>\n",
       "      <td>21498.18475812</td>\n",
       "      <td>330.21000000</td>\n",
       "      <td>338.75000000</td>\n",
       "      <td>827188.78290180</td>\n",
       "      <td>334.48</td>\n",
       "      <td>334.64</td>\n",
       "      <td>sell</td>\n",
       "      <td>2020-08-07T11:21:29.554511Z</td>\n",
       "      <td>10048940</td>\n",
       "      <td>0.02310305</td>\n",
       "    </tr>\n",
       "    <tr>\n",
       "      <th>2</th>\n",
       "      <td>5f2d3948962d560df00c9ba5</td>\n",
       "      <td>ticker</td>\n",
       "      <td>9922849610</td>\n",
       "      <td>ETH-USD</td>\n",
       "      <td>394.44</td>\n",
       "      <td>394.24000000</td>\n",
       "      <td>150237.32444375</td>\n",
       "      <td>391.00000000</td>\n",
       "      <td>401.27000000</td>\n",
       "      <td>5288438.98779041</td>\n",
       "      <td>394.40</td>\n",
       "      <td>394.44</td>\n",
       "      <td>buy</td>\n",
       "      <td>2020-08-07T11:21:40.903975Z</td>\n",
       "      <td>61448885</td>\n",
       "      <td>0.12109596</td>\n",
       "    </tr>\n",
       "    <tr>\n",
       "      <th>3</th>\n",
       "      <td>5f2d3949962d560df00c9baa</td>\n",
       "      <td>ticker</td>\n",
       "      <td>15589846670</td>\n",
       "      <td>BTC-USD</td>\n",
       "      <td>11765.25</td>\n",
       "      <td>11689.75000000</td>\n",
       "      <td>17288.89646029</td>\n",
       "      <td>11650.00000000</td>\n",
       "      <td>11920.00000000</td>\n",
       "      <td>372239.13121871</td>\n",
       "      <td>11765.24</td>\n",
       "      <td>11765.25</td>\n",
       "      <td>buy</td>\n",
       "      <td>2020-08-07T11:21:41.621160Z</td>\n",
       "      <td>99233142</td>\n",
       "      <td>0.00867865</td>\n",
       "    </tr>\n",
       "    <tr>\n",
       "      <th>4</th>\n",
       "      <td>5f2d3949962d560df00c9c03</td>\n",
       "      <td>ticker</td>\n",
       "      <td>9922849715</td>\n",
       "      <td>ETH-USD</td>\n",
       "      <td>394.45</td>\n",
       "      <td>394.24000000</td>\n",
       "      <td>150237.58257997</td>\n",
       "      <td>391.00000000</td>\n",
       "      <td>401.27000000</td>\n",
       "      <td>5288439.24592663</td>\n",
       "      <td>394.40</td>\n",
       "      <td>394.45</td>\n",
       "      <td>buy</td>\n",
       "      <td>2020-08-07T11:21:43.292671Z</td>\n",
       "      <td>61448886</td>\n",
       "      <td>0.25813622</td>\n",
       "    </tr>\n",
       "  </tbody>\n",
       "</table>\n",
       "</div>"
      ],
      "text/plain": [
       "                        _id    type     sequence product_id     price  \\\n",
       "0  5f2d3948962d560df00c9ba1  ticker   2215518589    ETH-BTC   0.03352   \n",
       "1  5f2d3948962d560df00c9ba3  ticker   4627012291    ETH-EUR    334.48   \n",
       "2  5f2d3948962d560df00c9ba5  ticker   9922849610    ETH-USD    394.44   \n",
       "3  5f2d3949962d560df00c9baa  ticker  15589846670    BTC-USD  11765.25   \n",
       "4  5f2d3949962d560df00c9c03  ticker   9922849715    ETH-USD    394.45   \n",
       "\n",
       "         open_24h       volume_24h         low_24h        high_24h  \\\n",
       "0      0.03374000   21835.28768411      0.03337000      0.03384000   \n",
       "1    333.48000000   21498.18475812    330.21000000    338.75000000   \n",
       "2    394.24000000  150237.32444375    391.00000000    401.27000000   \n",
       "3  11689.75000000   17288.89646029  11650.00000000  11920.00000000   \n",
       "4    394.24000000  150237.58257997    391.00000000    401.27000000   \n",
       "\n",
       "         volume_30d  best_bid  best_ask  side                         time  \\\n",
       "0   891625.19006849   0.03351   0.03352   buy  2020-08-07T11:21:13.238814Z   \n",
       "1   827188.78290180    334.48    334.64  sell  2020-08-07T11:21:29.554511Z   \n",
       "2  5288438.98779041    394.40    394.44   buy  2020-08-07T11:21:40.903975Z   \n",
       "3   372239.13121871  11765.24  11765.25   buy  2020-08-07T11:21:41.621160Z   \n",
       "4  5288439.24592663    394.40    394.45   buy  2020-08-07T11:21:43.292671Z   \n",
       "\n",
       "   trade_id   last_size  \n",
       "0  10094140  0.01621807  \n",
       "1  10048940  0.02310305  \n",
       "2  61448885  0.12109596  \n",
       "3  99233142  0.00867865  \n",
       "4  61448886  0.25813622  "
      ]
     },
     "execution_count": 11,
     "metadata": {},
     "output_type": "execute_result"
    }
   ],
   "source": [
    "df.head()"
   ]
  },
  {
   "cell_type": "code",
   "execution_count": 12,
   "metadata": {},
   "outputs": [
    {
     "name": "stdout",
     "output_type": "stream",
     "text": [
      "<class 'pandas.core.frame.DataFrame'>\n",
      "RangeIndex: 1837 entries, 0 to 1836\n",
      "Data columns (total 16 columns):\n",
      " #   Column      Non-Null Count  Dtype \n",
      "---  ------      --------------  ----- \n",
      " 0   _id         1837 non-null   object\n",
      " 1   type        1837 non-null   object\n",
      " 2   sequence    1837 non-null   int64 \n",
      " 3   product_id  1837 non-null   object\n",
      " 4   price       1837 non-null   object\n",
      " 5   open_24h    1837 non-null   object\n",
      " 6   volume_24h  1837 non-null   object\n",
      " 7   low_24h     1837 non-null   object\n",
      " 8   high_24h    1837 non-null   object\n",
      " 9   volume_30d  1837 non-null   object\n",
      " 10  best_bid    1837 non-null   object\n",
      " 11  best_ask    1837 non-null   object\n",
      " 12  side        1837 non-null   object\n",
      " 13  time        1837 non-null   object\n",
      " 14  trade_id    1837 non-null   int64 \n",
      " 15  last_size   1837 non-null   object\n",
      "dtypes: int64(2), object(14)\n",
      "memory usage: 229.8+ KB\n"
     ]
    }
   ],
   "source": [
    "df.info()"
   ]
  },
  {
   "cell_type": "code",
   "execution_count": 13,
   "metadata": {},
   "outputs": [],
   "source": [
    "df.price = df.price.astype(float)\n",
    "df.open_24h = df.open_24h.astype(float)\n",
    "df.volume_24h = df.volume_24h.astype(float)\n",
    "df.low_24h = df.low_24h.astype(float)\n",
    "df.high_24h = df.high_24h.astype(float)\n",
    "df.volume_30d = df.volume_30d.astype(float)\n",
    "df.best_bid = df.best_bid.astype(float)\n",
    "df.best_ask = df.best_ask.astype(float)\n",
    "df.trade_id = df.trade_id.astype(int)\n",
    "df.time = pd.to_datetime(df.time)"
   ]
  },
  {
   "cell_type": "code",
   "execution_count": 14,
   "metadata": {},
   "outputs": [],
   "source": [
    "#df.info()"
   ]
  },
  {
   "cell_type": "code",
   "execution_count": 15,
   "metadata": {},
   "outputs": [],
   "source": [
    "#df.describe()"
   ]
  },
  {
   "cell_type": "code",
   "execution_count": 16,
   "metadata": {},
   "outputs": [
    {
     "data": {
      "text/plain": [
       "BTC-USD    926\n",
       "ETH-USD    636\n",
       "ETH-EUR    166\n",
       "ETH-BTC    109\n",
       "Name: product_id, dtype: int64"
      ]
     },
     "execution_count": 16,
     "metadata": {},
     "output_type": "execute_result"
    }
   ],
   "source": [
    "df.product_id.value_counts()"
   ]
  },
  {
   "cell_type": "code",
   "execution_count": 17,
   "metadata": {},
   "outputs": [
    {
     "data": {
      "text/plain": [
       "pandas.core.frame.DataFrame"
      ]
     },
     "execution_count": 17,
     "metadata": {},
     "output_type": "execute_result"
    }
   ],
   "source": [
    "ether = df.loc[df.product_id == PRODUCT_ID,:]\n",
    "type(ether)\n",
    "#ether.info()"
   ]
  },
  {
   "cell_type": "code",
   "execution_count": 18,
   "metadata": {},
   "outputs": [
    {
     "data": {
      "text/plain": [
       "<matplotlib.axes._subplots.AxesSubplot at 0x1bcd12fee88>"
      ]
     },
     "execution_count": 18,
     "metadata": {},
     "output_type": "execute_result"
    },
    {
     "data": {
      "image/png": "[encoded data removed]",
      "text/plain": [
       "<Figure size 432x288 with 1 Axes>"
      ]
     },
     "metadata": {
      "needs_background": "light"
     },
     "output_type": "display_data"
    }
   ],
   "source": [
    "sns.distplot(ether.price)"
   ]
  },
  {
   "cell_type": "code",
   "execution_count": null,
   "metadata": {},
   "outputs": [],
   "source": []
  }
 ],
 "metadata": {
  "kernelspec": {
   "display_name": "Python 3",
   "language": "python",
   "name": "python3"
  },
  "language_info": {
   "codemirror_mode": {
    "name": "ipython",
    "version": 3
   },
   "file_extension": ".py",
   "mimetype": "text/x-python",
   "name": "python",
   "nbconvert_exporter": "python",
   "pygments_lexer": "ipython3",
   "version": "3.7.4"
  }
 },
 "nbformat": 4,
 "nbformat_minor": 2
}
