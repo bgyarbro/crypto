{
 "cells": [
  {
   "cell_type": "code",
   "execution_count": 1,
   "metadata": {},
   "outputs": [],
   "source": [
    "from pymongo import MongoClient\n",
    "client = MongoClient(\"mongodb://localhost:27017/\")\n",
    "db = client.test_database\n",
    "collection = db.crypto_collection"
   ]
  },
  {
   "cell_type": "code",
   "execution_count": 15,
   "metadata": {},
   "outputs": [
    {
     "name": "stderr",
     "output_type": "stream",
     "text": [
      "C:\\ProgramData\\Anaconda3\\lib\\site-packages\\statsmodels\\tools\\_testing.py:19: FutureWarning: pandas.util.testing is deprecated. Use the functions in the public API at pandas.testing instead.\n",
      "  import pandas.util.testing as tm\n"
     ]
    }
   ],
   "source": [
    "import pandas as pd\n",
    "import numpy as np\n",
    "import seaborn as sns"
   ]
  },
  {
   "cell_type": "code",
   "execution_count": 64,
   "metadata": {},
   "outputs": [],
   "source": [
    "import altair as alt"
   ]
  },
  {
   "cell_type": "code",
   "execution_count": null,
   "metadata": {},
   "outputs": [],
   "source": [
    "PRODUCT_ID = \"ETH-USD\""
   ]
  },
  {
   "cell_type": "code",
   "execution_count": 2,
   "metadata": {},
   "outputs": [
    {
     "data": {
      "text/plain": [
       "112352"
      ]
     },
     "execution_count": 2,
     "metadata": {},
     "output_type": "execute_result"
    }
   ],
   "source": [
    "collection.count()"
   ]
  },
  {
   "cell_type": "code",
   "execution_count": 10,
   "metadata": {},
   "outputs": [],
   "source": [
    "ticker = collection.find_one({\"type\":\"ticker\", \"product_id\":PRODUCT_ID})"
   ]
  },
  {
   "cell_type": "code",
   "execution_count": 11,
   "metadata": {},
   "outputs": [
    {
     "data": {
      "text/plain": [
       "{'_id': ObjectId('5f2d3948962d560df00c9ba5'),\n",
       " 'type': 'ticker',\n",
       " 'sequence': 9922849610,\n",
       " 'product_id': 'ETH-USD',\n",
       " 'price': '394.44',\n",
       " 'open_24h': '394.24000000',\n",
       " 'volume_24h': '150237.32444375',\n",
       " 'low_24h': '391.00000000',\n",
       " 'high_24h': '401.27000000',\n",
       " 'volume_30d': '5288438.98779041',\n",
       " 'best_bid': '394.40',\n",
       " 'best_ask': '394.44',\n",
       " 'side': 'buy',\n",
       " 'time': '2020-08-07T11:21:40.903975Z',\n",
       " 'trade_id': 61448885,\n",
       " 'last_size': '0.12109596'}"
      ]
     },
     "execution_count": 11,
     "metadata": {},
     "output_type": "execute_result"
    }
   ],
   "source": [
    "ticker"
   ]
  },
  {
   "cell_type": "code",
   "execution_count": 12,
   "metadata": {},
   "outputs": [
    {
     "data": {
      "text/plain": [
       "bson.int64.Int64"
      ]
     },
     "execution_count": 12,
     "metadata": {},
     "output_type": "execute_result"
    }
   ],
   "source": [
    "type(ticker['sequence'])"
   ]
  },
  {
   "cell_type": "code",
   "execution_count": 17,
   "metadata": {},
   "outputs": [
    {
     "data": {
      "text/plain": [
       "array(150237.32444375)"
      ]
     },
     "execution_count": 17,
     "metadata": {},
     "output_type": "execute_result"
    }
   ],
   "source": [
    "np.array(ticker['volume_24h']).astype(np.float)"
   ]
  },
  {
   "cell_type": "code",
   "execution_count": 22,
   "metadata": {},
   "outputs": [
    {
     "data": {
      "text/plain": [
       "['_id',\n",
       " 'type',\n",
       " 'sequence',\n",
       " 'product_id',\n",
       " 'price',\n",
       " 'open_24h',\n",
       " 'volume_24h',\n",
       " 'low_24h',\n",
       " 'high_24h',\n",
       " 'volume_30d',\n",
       " 'best_bid',\n",
       " 'best_ask',\n",
       " 'side',\n",
       " 'time',\n",
       " 'trade_id',\n",
       " 'last_size']"
      ]
     },
     "execution_count": 22,
     "metadata": {},
     "output_type": "execute_result"
    }
   ],
   "source": [
    "list(ticker.keys())"
   ]
  },
  {
   "cell_type": "code",
   "execution_count": 24,
   "metadata": {},
   "outputs": [
    {
     "ename": "SyntaxError",
     "evalue": "invalid syntax (<ipython-input-24-95ed04e281d1>, line 4)",
     "output_type": "error",
     "traceback": [
      "\u001b[1;36m  File \u001b[1;32m\"<ipython-input-24-95ed04e281d1>\"\u001b[1;36m, line \u001b[1;32m4\u001b[0m\n\u001b[1;33m    'product_id': 'str',\u001b[0m\n\u001b[1;37m                ^\u001b[0m\n\u001b[1;31mSyntaxError\u001b[0m\u001b[1;31m:\u001b[0m invalid syntax\n"
     ]
    }
   ],
   "source": [
    "dtypes = {'_id': 'str',\n",
    " 'type': 'str',\n",
    " 'sequence': 'int'\n",
    " 'product_id': 'str',\n",
    " 'price': 'float'\n",
    " 'open_24h': 'float'\n",
    " 'volume_24h': 'float'\n",
    " 'low_24h': 'float'\n",
    " 'high_24h': 'float'\n",
    " 'volume_30d': 'float'\n",
    " 'best_bid': 'float'\n",
    " 'best_ask': 'float'\n",
    " 'side': 'str'\n",
    " 'time': 'str'\n",
    " 'trade_id': 'int',\n",
    " 'last_size': 'float'}"
   ]
  },
  {
   "cell_type": "code",
   "execution_count": 32,
   "metadata": {},
   "outputs": [],
   "source": [
    "df = pd.DataFrame.from_dict(collection.find({\"type\":\"ticker\"}))"
   ]
  },
  {
   "cell_type": "code",
   "execution_count": 33,
   "metadata": {},
   "outputs": [
    {
     "data": {
      "text/html": [
       "<div>\n",
       "<style scoped>\n",
       "    .dataframe tbody tr th:only-of-type {\n",
       "        vertical-align: middle;\n",
       "    }\n",
       "\n",
       "    .dataframe tbody tr th {\n",
       "        vertical-align: top;\n",
       "    }\n",
       "\n",
       "    .dataframe thead th {\n",
       "        text-align: right;\n",
       "    }\n",
       "</style>\n",
       "<table border=\"1\" class=\"dataframe\">\n",
       "  <thead>\n",
       "    <tr style=\"text-align: right;\">\n",
       "      <th></th>\n",
       "      <th>_id</th>\n",
       "      <th>type</th>\n",
       "      <th>sequence</th>\n",
       "      <th>product_id</th>\n",
       "      <th>price</th>\n",
       "      <th>open_24h</th>\n",
       "      <th>volume_24h</th>\n",
       "      <th>low_24h</th>\n",
       "      <th>high_24h</th>\n",
       "      <th>volume_30d</th>\n",
       "      <th>best_bid</th>\n",
       "      <th>best_ask</th>\n",
       "      <th>side</th>\n",
       "      <th>time</th>\n",
       "      <th>trade_id</th>\n",
       "      <th>last_size</th>\n",
       "    </tr>\n",
       "  </thead>\n",
       "  <tbody>\n",
       "    <tr>\n",
       "      <th>0</th>\n",
       "      <td>5f2d3948962d560df00c9ba1</td>\n",
       "      <td>ticker</td>\n",
       "      <td>2215518589</td>\n",
       "      <td>ETH-BTC</td>\n",
       "      <td>0.03352</td>\n",
       "      <td>0.03374000</td>\n",
       "      <td>21835.28768411</td>\n",
       "      <td>0.03337000</td>\n",
       "      <td>0.03384000</td>\n",
       "      <td>891625.19006849</td>\n",
       "      <td>0.03351</td>\n",
       "      <td>0.03352</td>\n",
       "      <td>buy</td>\n",
       "      <td>2020-08-07T11:21:13.238814Z</td>\n",
       "      <td>10094140</td>\n",
       "      <td>0.01621807</td>\n",
       "    </tr>\n",
       "    <tr>\n",
       "      <th>1</th>\n",
       "      <td>5f2d3948962d560df00c9ba3</td>\n",
       "      <td>ticker</td>\n",
       "      <td>4627012291</td>\n",
       "      <td>ETH-EUR</td>\n",
       "      <td>334.48</td>\n",
       "      <td>333.48000000</td>\n",
       "      <td>21498.18475812</td>\n",
       "      <td>330.21000000</td>\n",
       "      <td>338.75000000</td>\n",
       "      <td>827188.78290180</td>\n",
       "      <td>334.48</td>\n",
       "      <td>334.64</td>\n",
       "      <td>sell</td>\n",
       "      <td>2020-08-07T11:21:29.554511Z</td>\n",
       "      <td>10048940</td>\n",
       "      <td>0.02310305</td>\n",
       "    </tr>\n",
       "    <tr>\n",
       "      <th>2</th>\n",
       "      <td>5f2d3948962d560df00c9ba5</td>\n",
       "      <td>ticker</td>\n",
       "      <td>9922849610</td>\n",
       "      <td>ETH-USD</td>\n",
       "      <td>394.44</td>\n",
       "      <td>394.24000000</td>\n",
       "      <td>150237.32444375</td>\n",
       "      <td>391.00000000</td>\n",
       "      <td>401.27000000</td>\n",
       "      <td>5288438.98779041</td>\n",
       "      <td>394.40</td>\n",
       "      <td>394.44</td>\n",
       "      <td>buy</td>\n",
       "      <td>2020-08-07T11:21:40.903975Z</td>\n",
       "      <td>61448885</td>\n",
       "      <td>0.12109596</td>\n",
       "    </tr>\n",
       "    <tr>\n",
       "      <th>3</th>\n",
       "      <td>5f2d3949962d560df00c9baa</td>\n",
       "      <td>ticker</td>\n",
       "      <td>15589846670</td>\n",
       "      <td>BTC-USD</td>\n",
       "      <td>11765.25</td>\n",
       "      <td>11689.75000000</td>\n",
       "      <td>17288.89646029</td>\n",
       "      <td>11650.00000000</td>\n",
       "      <td>11920.00000000</td>\n",
       "      <td>372239.13121871</td>\n",
       "      <td>11765.24</td>\n",
       "      <td>11765.25</td>\n",
       "      <td>buy</td>\n",
       "      <td>2020-08-07T11:21:41.621160Z</td>\n",
       "      <td>99233142</td>\n",
       "      <td>0.00867865</td>\n",
       "    </tr>\n",
       "    <tr>\n",
       "      <th>4</th>\n",
       "      <td>5f2d3949962d560df00c9c03</td>\n",
       "      <td>ticker</td>\n",
       "      <td>9922849715</td>\n",
       "      <td>ETH-USD</td>\n",
       "      <td>394.45</td>\n",
       "      <td>394.24000000</td>\n",
       "      <td>150237.58257997</td>\n",
       "      <td>391.00000000</td>\n",
       "      <td>401.27000000</td>\n",
       "      <td>5288439.24592663</td>\n",
       "      <td>394.40</td>\n",
       "      <td>394.45</td>\n",
       "      <td>buy</td>\n",
       "      <td>2020-08-07T11:21:43.292671Z</td>\n",
       "      <td>61448886</td>\n",
       "      <td>0.25813622</td>\n",
       "    </tr>\n",
       "  </tbody>\n",
       "</table>\n",
       "</div>"
      ],
      "text/plain": [
       "                        _id    type     sequence product_id     price  \\\n",
       "0  5f2d3948962d560df00c9ba1  ticker   2215518589    ETH-BTC   0.03352   \n",
       "1  5f2d3948962d560df00c9ba3  ticker   4627012291    ETH-EUR    334.48   \n",
       "2  5f2d3948962d560df00c9ba5  ticker   9922849610    ETH-USD    394.44   \n",
       "3  5f2d3949962d560df00c9baa  ticker  15589846670    BTC-USD  11765.25   \n",
       "4  5f2d3949962d560df00c9c03  ticker   9922849715    ETH-USD    394.45   \n",
       "\n",
       "         open_24h       volume_24h         low_24h        high_24h  \\\n",
       "0      0.03374000   21835.28768411      0.03337000      0.03384000   \n",
       "1    333.48000000   21498.18475812    330.21000000    338.75000000   \n",
       "2    394.24000000  150237.32444375    391.00000000    401.27000000   \n",
       "3  11689.75000000   17288.89646029  11650.00000000  11920.00000000   \n",
       "4    394.24000000  150237.58257997    391.00000000    401.27000000   \n",
       "\n",
       "         volume_30d  best_bid  best_ask  side                         time  \\\n",
       "0   891625.19006849   0.03351   0.03352   buy  2020-08-07T11:21:13.238814Z   \n",
       "1   827188.78290180    334.48    334.64  sell  2020-08-07T11:21:29.554511Z   \n",
       "2  5288438.98779041    394.40    394.44   buy  2020-08-07T11:21:40.903975Z   \n",
       "3   372239.13121871  11765.24  11765.25   buy  2020-08-07T11:21:41.621160Z   \n",
       "4  5288439.24592663    394.40    394.45   buy  2020-08-07T11:21:43.292671Z   \n",
       "\n",
       "   trade_id   last_size  \n",
       "0  10094140  0.01621807  \n",
       "1  10048940  0.02310305  \n",
       "2  61448885  0.12109596  \n",
       "3  99233142  0.00867865  \n",
       "4  61448886  0.25813622  "
      ]
     },
     "execution_count": 33,
     "metadata": {},
     "output_type": "execute_result"
    }
   ],
   "source": [
    "df.head()"
   ]
  },
  {
   "cell_type": "code",
   "execution_count": 34,
   "metadata": {},
   "outputs": [
    {
     "name": "stdout",
     "output_type": "stream",
     "text": [
      "<class 'pandas.core.frame.DataFrame'>\n",
      "RangeIndex: 798 entries, 0 to 797\n",
      "Data columns (total 16 columns):\n",
      " #   Column      Non-Null Count  Dtype \n",
      "---  ------      --------------  ----- \n",
      " 0   _id         798 non-null    object\n",
      " 1   type        798 non-null    object\n",
      " 2   sequence    798 non-null    int64 \n",
      " 3   product_id  798 non-null    object\n",
      " 4   price       798 non-null    object\n",
      " 5   open_24h    798 non-null    object\n",
      " 6   volume_24h  798 non-null    object\n",
      " 7   low_24h     798 non-null    object\n",
      " 8   high_24h    798 non-null    object\n",
      " 9   volume_30d  798 non-null    object\n",
      " 10  best_bid    798 non-null    object\n",
      " 11  best_ask    798 non-null    object\n",
      " 12  side        798 non-null    object\n",
      " 13  time        798 non-null    object\n",
      " 14  trade_id    798 non-null    int64 \n",
      " 15  last_size   798 non-null    object\n",
      "dtypes: int64(2), object(14)\n",
      "memory usage: 99.9+ KB\n"
     ]
    }
   ],
   "source": [
    "df.info()"
   ]
  },
  {
   "cell_type": "code",
   "execution_count": 57,
   "metadata": {},
   "outputs": [],
   "source": [
    "df.price = df.price.astype(float)\n",
    "df.open_24h = df.open_24h.astype(float)\n",
    "df.volume_24h = df.volume_24h.astype(float)\n",
    "df.low_24h = df.low_24h.astype(float)\n",
    "df.high_24h = df.high_24h.astype(float)\n",
    "df.volume_30d = df.volume_30d.astype(float)\n",
    "df.best_bid = df.best_bid.astype(float)\n",
    "df.best_ask = df.best_ask.astype(float)\n",
    "df.trade_id = df.trade_id.astype(int)\n",
    "df.time = pd.to_datetime(df.time)"
   ]
  },
  {
   "cell_type": "code",
   "execution_count": 58,
   "metadata": {},
   "outputs": [
    {
     "name": "stdout",
     "output_type": "stream",
     "text": [
      "<class 'pandas.core.frame.DataFrame'>\n",
      "RangeIndex: 798 entries, 0 to 797\n",
      "Data columns (total 16 columns):\n",
      " #   Column      Non-Null Count  Dtype              \n",
      "---  ------      --------------  -----              \n",
      " 0   _id         798 non-null    object             \n",
      " 1   type        798 non-null    object             \n",
      " 2   sequence    798 non-null    int64              \n",
      " 3   product_id  798 non-null    object             \n",
      " 4   price       798 non-null    float64            \n",
      " 5   open_24h    798 non-null    float64            \n",
      " 6   volume_24h  798 non-null    float64            \n",
      " 7   low_24h     798 non-null    float64            \n",
      " 8   high_24h    798 non-null    float64            \n",
      " 9   volume_30d  798 non-null    float64            \n",
      " 10  best_bid    798 non-null    float64            \n",
      " 11  best_ask    798 non-null    float64            \n",
      " 12  side        798 non-null    object             \n",
      " 13  time        798 non-null    datetime64[ns, UTC]\n",
      " 14  trade_id    798 non-null    int32              \n",
      " 15  last_size   798 non-null    object             \n",
      "dtypes: datetime64[ns, UTC](1), float64(8), int32(1), int64(1), object(5)\n",
      "memory usage: 96.8+ KB\n"
     ]
    }
   ],
   "source": [
    "df.info()"
   ]
  },
  {
   "cell_type": "code",
   "execution_count": 59,
   "metadata": {},
   "outputs": [
    {
     "data": {
      "text/html": [
       "<div>\n",
       "<style scoped>\n",
       "    .dataframe tbody tr th:only-of-type {\n",
       "        vertical-align: middle;\n",
       "    }\n",
       "\n",
       "    .dataframe tbody tr th {\n",
       "        vertical-align: top;\n",
       "    }\n",
       "\n",
       "    .dataframe thead th {\n",
       "        text-align: right;\n",
       "    }\n",
       "</style>\n",
       "<table border=\"1\" class=\"dataframe\">\n",
       "  <thead>\n",
       "    <tr style=\"text-align: right;\">\n",
       "      <th></th>\n",
       "      <th>sequence</th>\n",
       "      <th>price</th>\n",
       "      <th>open_24h</th>\n",
       "      <th>volume_24h</th>\n",
       "      <th>low_24h</th>\n",
       "      <th>high_24h</th>\n",
       "      <th>volume_30d</th>\n",
       "      <th>best_bid</th>\n",
       "      <th>best_ask</th>\n",
       "      <th>trade_id</th>\n",
       "    </tr>\n",
       "  </thead>\n",
       "  <tbody>\n",
       "    <tr>\n",
       "      <th>count</th>\n",
       "      <td>7.980000e+02</td>\n",
       "      <td>798.000000</td>\n",
       "      <td>798.000000</td>\n",
       "      <td>798.000000</td>\n",
       "      <td>798.000000</td>\n",
       "      <td>798.000000</td>\n",
       "      <td>7.980000e+02</td>\n",
       "      <td>798.000000</td>\n",
       "      <td>798.000000</td>\n",
       "      <td>7.980000e+02</td>\n",
       "    </tr>\n",
       "    <tr>\n",
       "      <th>mean</th>\n",
       "      <td>1.189933e+10</td>\n",
       "      <td>6249.345072</td>\n",
       "      <td>6221.243843</td>\n",
       "      <td>61388.902870</td>\n",
       "      <td>6191.126355</td>\n",
       "      <td>6335.097583</td>\n",
       "      <td>2.048755e+06</td>\n",
       "      <td>6249.236788</td>\n",
       "      <td>6249.485160</td>\n",
       "      <td>7.295506e+07</td>\n",
       "    </tr>\n",
       "    <tr>\n",
       "      <th>std</th>\n",
       "      <td>4.333775e+09</td>\n",
       "      <td>5711.447306</td>\n",
       "      <td>5683.650234</td>\n",
       "      <td>62047.117611</td>\n",
       "      <td>5658.053567</td>\n",
       "      <td>5788.684715</td>\n",
       "      <td>2.259873e+06</td>\n",
       "      <td>5711.370353</td>\n",
       "      <td>5711.557728</td>\n",
       "      <td>3.195876e+07</td>\n",
       "    </tr>\n",
       "    <tr>\n",
       "      <th>min</th>\n",
       "      <td>2.215519e+09</td>\n",
       "      <td>0.033480</td>\n",
       "      <td>0.033710</td>\n",
       "      <td>17287.194246</td>\n",
       "      <td>0.033370</td>\n",
       "      <td>0.033840</td>\n",
       "      <td>3.722002e+05</td>\n",
       "      <td>0.033480</td>\n",
       "      <td>0.033490</td>\n",
       "      <td>1.004894e+07</td>\n",
       "    </tr>\n",
       "    <tr>\n",
       "      <th>25%</th>\n",
       "      <td>9.922867e+09</td>\n",
       "      <td>393.880000</td>\n",
       "      <td>395.000000</td>\n",
       "      <td>17293.474434</td>\n",
       "      <td>391.000000</td>\n",
       "      <td>401.270000</td>\n",
       "      <td>3.722283e+05</td>\n",
       "      <td>393.870000</td>\n",
       "      <td>393.900000</td>\n",
       "      <td>6.144896e+07</td>\n",
       "    </tr>\n",
       "    <tr>\n",
       "      <th>50%</th>\n",
       "      <td>1.558985e+10</td>\n",
       "      <td>11751.310000</td>\n",
       "      <td>11701.030000</td>\n",
       "      <td>17316.039013</td>\n",
       "      <td>11650.000000</td>\n",
       "      <td>11920.000000</td>\n",
       "      <td>3.722430e+05</td>\n",
       "      <td>11751.230000</td>\n",
       "      <td>11751.320000</td>\n",
       "      <td>9.923316e+07</td>\n",
       "    </tr>\n",
       "    <tr>\n",
       "      <th>75%</th>\n",
       "      <td>1.558987e+10</td>\n",
       "      <td>11759.267500</td>\n",
       "      <td>11701.030000</td>\n",
       "      <td>150272.861919</td>\n",
       "      <td>11650.000000</td>\n",
       "      <td>11920.000000</td>\n",
       "      <td>5.288502e+06</td>\n",
       "      <td>11759.190000</td>\n",
       "      <td>11759.372500</td>\n",
       "      <td>9.923335e+07</td>\n",
       "    </tr>\n",
       "    <tr>\n",
       "      <th>max</th>\n",
       "      <td>1.558992e+10</td>\n",
       "      <td>11772.440000</td>\n",
       "      <td>11719.170000</td>\n",
       "      <td>151253.765798</td>\n",
       "      <td>11650.000000</td>\n",
       "      <td>11920.000000</td>\n",
       "      <td>5.289239e+06</td>\n",
       "      <td>11771.490000</td>\n",
       "      <td>11772.440000</td>\n",
       "      <td>9.923355e+07</td>\n",
       "    </tr>\n",
       "  </tbody>\n",
       "</table>\n",
       "</div>"
      ],
      "text/plain": [
       "           sequence         price      open_24h     volume_24h       low_24h  \\\n",
       "count  7.980000e+02    798.000000    798.000000     798.000000    798.000000   \n",
       "mean   1.189933e+10   6249.345072   6221.243843   61388.902870   6191.126355   \n",
       "std    4.333775e+09   5711.447306   5683.650234   62047.117611   5658.053567   \n",
       "min    2.215519e+09      0.033480      0.033710   17287.194246      0.033370   \n",
       "25%    9.922867e+09    393.880000    395.000000   17293.474434    391.000000   \n",
       "50%    1.558985e+10  11751.310000  11701.030000   17316.039013  11650.000000   \n",
       "75%    1.558987e+10  11759.267500  11701.030000  150272.861919  11650.000000   \n",
       "max    1.558992e+10  11772.440000  11719.170000  151253.765798  11650.000000   \n",
       "\n",
       "           high_24h    volume_30d      best_bid      best_ask      trade_id  \n",
       "count    798.000000  7.980000e+02    798.000000    798.000000  7.980000e+02  \n",
       "mean    6335.097583  2.048755e+06   6249.236788   6249.485160  7.295506e+07  \n",
       "std     5788.684715  2.259873e+06   5711.370353   5711.557728  3.195876e+07  \n",
       "min        0.033840  3.722002e+05      0.033480      0.033490  1.004894e+07  \n",
       "25%      401.270000  3.722283e+05    393.870000    393.900000  6.144896e+07  \n",
       "50%    11920.000000  3.722430e+05  11751.230000  11751.320000  9.923316e+07  \n",
       "75%    11920.000000  5.288502e+06  11759.190000  11759.372500  9.923335e+07  \n",
       "max    11920.000000  5.289239e+06  11771.490000  11772.440000  9.923355e+07  "
      ]
     },
     "execution_count": 59,
     "metadata": {},
     "output_type": "execute_result"
    }
   ],
   "source": [
    "df.describe()"
   ]
  },
  {
   "cell_type": "code",
   "execution_count": 54,
   "metadata": {},
   "outputs": [
    {
     "data": {
      "text/plain": [
       "BTC-USD    413\n",
       "ETH-USD    260\n",
       "ETH-EUR     83\n",
       "ETH-BTC     42\n",
       "Name: product_id, dtype: int64"
      ]
     },
     "execution_count": 54,
     "metadata": {},
     "output_type": "execute_result"
    }
   ],
   "source": [
    "df.product_id.value_counts()"
   ]
  },
  {
   "cell_type": "code",
   "execution_count": 71,
   "metadata": {},
   "outputs": [
    {
     "name": "stdout",
     "output_type": "stream",
     "text": [
      "<class 'pandas.core.frame.DataFrame'>\n",
      "Int64Index: 260 entries, 2 to 796\n",
      "Data columns (total 16 columns):\n",
      " #   Column      Non-Null Count  Dtype              \n",
      "---  ------      --------------  -----              \n",
      " 0   _id         260 non-null    object             \n",
      " 1   type        260 non-null    object             \n",
      " 2   sequence    260 non-null    int64              \n",
      " 3   product_id  260 non-null    object             \n",
      " 4   price       260 non-null    float64            \n",
      " 5   open_24h    260 non-null    float64            \n",
      " 6   volume_24h  260 non-null    float64            \n",
      " 7   low_24h     260 non-null    float64            \n",
      " 8   high_24h    260 non-null    float64            \n",
      " 9   volume_30d  260 non-null    float64            \n",
      " 10  best_bid    260 non-null    float64            \n",
      " 11  best_ask    260 non-null    float64            \n",
      " 12  side        260 non-null    object             \n",
      " 13  time        260 non-null    datetime64[ns, UTC]\n",
      " 14  trade_id    260 non-null    int32              \n",
      " 15  last_size   260 non-null    object             \n",
      "dtypes: datetime64[ns, UTC](1), float64(8), int32(1), int64(1), object(5)\n",
      "memory usage: 33.5+ KB\n"
     ]
    }
   ],
   "source": [
    "ether = df.loc[df.product_id == \"ETH-USD\",:]\n",
    "type(ether)\n",
    "ether.info()"
   ]
  },
  {
   "cell_type": "code",
   "execution_count": 67,
   "metadata": {},
   "outputs": [
    {
     "ename": "TypeError",
     "evalue": "Object of type ObjectId is not JSON serializable",
     "output_type": "error",
     "traceback": [
      "\u001b[1;31m---------------------------------------------------------------------------\u001b[0m",
      "\u001b[1;31mTypeError\u001b[0m                                 Traceback (most recent call last)",
      "\u001b[1;32mC:\\ProgramData\\Anaconda3\\lib\\site-packages\\altair\\vegalite\\v4\\api.py\u001b[0m in \u001b[0;36mto_dict\u001b[1;34m(self, *args, **kwargs)\u001b[0m\n\u001b[0;32m    361\u001b[0m         \u001b[0mcopy\u001b[0m \u001b[1;33m=\u001b[0m \u001b[0mself\u001b[0m\u001b[1;33m.\u001b[0m\u001b[0mcopy\u001b[0m\u001b[1;33m(\u001b[0m\u001b[0mdeep\u001b[0m\u001b[1;33m=\u001b[0m\u001b[1;32mFalse\u001b[0m\u001b[1;33m)\u001b[0m\u001b[1;33m\u001b[0m\u001b[1;33m\u001b[0m\u001b[0m\n\u001b[0;32m    362\u001b[0m         \u001b[0moriginal_data\u001b[0m \u001b[1;33m=\u001b[0m \u001b[0mgetattr\u001b[0m\u001b[1;33m(\u001b[0m\u001b[0mcopy\u001b[0m\u001b[1;33m,\u001b[0m \u001b[1;34m\"data\"\u001b[0m\u001b[1;33m,\u001b[0m \u001b[0mUndefined\u001b[0m\u001b[1;33m)\u001b[0m\u001b[1;33m\u001b[0m\u001b[1;33m\u001b[0m\u001b[0m\n\u001b[1;32m--> 363\u001b[1;33m         \u001b[0mcopy\u001b[0m\u001b[1;33m.\u001b[0m\u001b[0mdata\u001b[0m \u001b[1;33m=\u001b[0m \u001b[0m_prepare_data\u001b[0m\u001b[1;33m(\u001b[0m\u001b[0moriginal_data\u001b[0m\u001b[1;33m,\u001b[0m \u001b[0mcontext\u001b[0m\u001b[1;33m)\u001b[0m\u001b[1;33m\u001b[0m\u001b[1;33m\u001b[0m\u001b[0m\n\u001b[0m\u001b[0;32m    364\u001b[0m \u001b[1;33m\u001b[0m\u001b[0m\n\u001b[0;32m    365\u001b[0m         \u001b[1;32mif\u001b[0m \u001b[0moriginal_data\u001b[0m \u001b[1;32mis\u001b[0m \u001b[1;32mnot\u001b[0m \u001b[0mUndefined\u001b[0m\u001b[1;33m:\u001b[0m\u001b[1;33m\u001b[0m\u001b[1;33m\u001b[0m\u001b[0m\n",
      "\u001b[1;32mC:\\ProgramData\\Anaconda3\\lib\\site-packages\\altair\\vegalite\\v4\\api.py\u001b[0m in \u001b[0;36m_prepare_data\u001b[1;34m(data, context)\u001b[0m\n\u001b[0;32m     90\u001b[0m     \u001b[1;31m# consolidate inline data to top-level datasets\u001b[0m\u001b[1;33m\u001b[0m\u001b[1;33m\u001b[0m\u001b[1;33m\u001b[0m\u001b[0m\n\u001b[0;32m     91\u001b[0m     \u001b[1;32mif\u001b[0m \u001b[0mcontext\u001b[0m \u001b[1;32mis\u001b[0m \u001b[1;32mnot\u001b[0m \u001b[1;32mNone\u001b[0m \u001b[1;32mand\u001b[0m \u001b[0mdata_transformers\u001b[0m\u001b[1;33m.\u001b[0m\u001b[0mconsolidate_datasets\u001b[0m\u001b[1;33m:\u001b[0m\u001b[1;33m\u001b[0m\u001b[1;33m\u001b[0m\u001b[0m\n\u001b[1;32m---> 92\u001b[1;33m         \u001b[0mdata\u001b[0m \u001b[1;33m=\u001b[0m \u001b[0m_consolidate_data\u001b[0m\u001b[1;33m(\u001b[0m\u001b[0mdata\u001b[0m\u001b[1;33m,\u001b[0m \u001b[0mcontext\u001b[0m\u001b[1;33m)\u001b[0m\u001b[1;33m\u001b[0m\u001b[1;33m\u001b[0m\u001b[0m\n\u001b[0m\u001b[0;32m     93\u001b[0m \u001b[1;33m\u001b[0m\u001b[0m\n\u001b[0;32m     94\u001b[0m     \u001b[1;31m# if data is still not a recognized type, then return\u001b[0m\u001b[1;33m\u001b[0m\u001b[1;33m\u001b[0m\u001b[1;33m\u001b[0m\u001b[0m\n",
      "\u001b[1;32mC:\\ProgramData\\Anaconda3\\lib\\site-packages\\altair\\vegalite\\v4\\api.py\u001b[0m in \u001b[0;36m_consolidate_data\u001b[1;34m(data, context)\u001b[0m\n\u001b[0;32m     57\u001b[0m \u001b[1;33m\u001b[0m\u001b[0m\n\u001b[0;32m     58\u001b[0m     \u001b[1;32mif\u001b[0m \u001b[0mvalues\u001b[0m \u001b[1;32mis\u001b[0m \u001b[1;32mnot\u001b[0m \u001b[0mUndefined\u001b[0m\u001b[1;33m:\u001b[0m\u001b[1;33m\u001b[0m\u001b[1;33m\u001b[0m\u001b[0m\n\u001b[1;32m---> 59\u001b[1;33m         \u001b[0mname\u001b[0m \u001b[1;33m=\u001b[0m \u001b[0m_dataset_name\u001b[0m\u001b[1;33m(\u001b[0m\u001b[0mvalues\u001b[0m\u001b[1;33m)\u001b[0m\u001b[1;33m\u001b[0m\u001b[1;33m\u001b[0m\u001b[0m\n\u001b[0m\u001b[0;32m     60\u001b[0m         \u001b[0mdata\u001b[0m \u001b[1;33m=\u001b[0m \u001b[0mcore\u001b[0m\u001b[1;33m.\u001b[0m\u001b[0mNamedData\u001b[0m\u001b[1;33m(\u001b[0m\u001b[0mname\u001b[0m\u001b[1;33m=\u001b[0m\u001b[0mname\u001b[0m\u001b[1;33m,\u001b[0m \u001b[1;33m**\u001b[0m\u001b[0mkwds\u001b[0m\u001b[1;33m)\u001b[0m\u001b[1;33m\u001b[0m\u001b[1;33m\u001b[0m\u001b[0m\n\u001b[0;32m     61\u001b[0m         \u001b[0mcontext\u001b[0m\u001b[1;33m.\u001b[0m\u001b[0msetdefault\u001b[0m\u001b[1;33m(\u001b[0m\u001b[1;34m\"datasets\"\u001b[0m\u001b[1;33m,\u001b[0m \u001b[1;33m{\u001b[0m\u001b[1;33m}\u001b[0m\u001b[1;33m)\u001b[0m\u001b[1;33m[\u001b[0m\u001b[0mname\u001b[0m\u001b[1;33m]\u001b[0m \u001b[1;33m=\u001b[0m \u001b[0mvalues\u001b[0m\u001b[1;33m\u001b[0m\u001b[1;33m\u001b[0m\u001b[0m\n",
      "\u001b[1;32mC:\\ProgramData\\Anaconda3\\lib\\site-packages\\altair\\vegalite\\v4\\api.py\u001b[0m in \u001b[0;36m_dataset_name\u001b[1;34m(values)\u001b[0m\n\u001b[0;32m     33\u001b[0m     \u001b[1;32mif\u001b[0m \u001b[0misinstance\u001b[0m\u001b[1;33m(\u001b[0m\u001b[0mvalues\u001b[0m\u001b[1;33m,\u001b[0m \u001b[0mcore\u001b[0m\u001b[1;33m.\u001b[0m\u001b[0mInlineDataset\u001b[0m\u001b[1;33m)\u001b[0m\u001b[1;33m:\u001b[0m\u001b[1;33m\u001b[0m\u001b[1;33m\u001b[0m\u001b[0m\n\u001b[0;32m     34\u001b[0m         \u001b[0mvalues\u001b[0m \u001b[1;33m=\u001b[0m \u001b[0mvalues\u001b[0m\u001b[1;33m.\u001b[0m\u001b[0mto_dict\u001b[0m\u001b[1;33m(\u001b[0m\u001b[1;33m)\u001b[0m\u001b[1;33m\u001b[0m\u001b[1;33m\u001b[0m\u001b[0m\n\u001b[1;32m---> 35\u001b[1;33m     \u001b[0mvalues_json\u001b[0m \u001b[1;33m=\u001b[0m \u001b[0mjson\u001b[0m\u001b[1;33m.\u001b[0m\u001b[0mdumps\u001b[0m\u001b[1;33m(\u001b[0m\u001b[0mvalues\u001b[0m\u001b[1;33m,\u001b[0m \u001b[0msort_keys\u001b[0m\u001b[1;33m=\u001b[0m\u001b[1;32mTrue\u001b[0m\u001b[1;33m)\u001b[0m\u001b[1;33m\u001b[0m\u001b[1;33m\u001b[0m\u001b[0m\n\u001b[0m\u001b[0;32m     36\u001b[0m     \u001b[0mhsh\u001b[0m \u001b[1;33m=\u001b[0m \u001b[0mhashlib\u001b[0m\u001b[1;33m.\u001b[0m\u001b[0mmd5\u001b[0m\u001b[1;33m(\u001b[0m\u001b[0mvalues_json\u001b[0m\u001b[1;33m.\u001b[0m\u001b[0mencode\u001b[0m\u001b[1;33m(\u001b[0m\u001b[1;33m)\u001b[0m\u001b[1;33m)\u001b[0m\u001b[1;33m.\u001b[0m\u001b[0mhexdigest\u001b[0m\u001b[1;33m(\u001b[0m\u001b[1;33m)\u001b[0m\u001b[1;33m\u001b[0m\u001b[1;33m\u001b[0m\u001b[0m\n\u001b[0;32m     37\u001b[0m     \u001b[1;32mreturn\u001b[0m \u001b[1;34m\"data-\"\u001b[0m \u001b[1;33m+\u001b[0m \u001b[0mhsh\u001b[0m\u001b[1;33m\u001b[0m\u001b[1;33m\u001b[0m\u001b[0m\n",
      "\u001b[1;32mC:\\ProgramData\\Anaconda3\\lib\\json\\__init__.py\u001b[0m in \u001b[0;36mdumps\u001b[1;34m(obj, skipkeys, ensure_ascii, check_circular, allow_nan, cls, indent, separators, default, sort_keys, **kw)\u001b[0m\n\u001b[0;32m    236\u001b[0m         \u001b[0mcheck_circular\u001b[0m\u001b[1;33m=\u001b[0m\u001b[0mcheck_circular\u001b[0m\u001b[1;33m,\u001b[0m \u001b[0mallow_nan\u001b[0m\u001b[1;33m=\u001b[0m\u001b[0mallow_nan\u001b[0m\u001b[1;33m,\u001b[0m \u001b[0mindent\u001b[0m\u001b[1;33m=\u001b[0m\u001b[0mindent\u001b[0m\u001b[1;33m,\u001b[0m\u001b[1;33m\u001b[0m\u001b[1;33m\u001b[0m\u001b[0m\n\u001b[0;32m    237\u001b[0m         \u001b[0mseparators\u001b[0m\u001b[1;33m=\u001b[0m\u001b[0mseparators\u001b[0m\u001b[1;33m,\u001b[0m \u001b[0mdefault\u001b[0m\u001b[1;33m=\u001b[0m\u001b[0mdefault\u001b[0m\u001b[1;33m,\u001b[0m \u001b[0msort_keys\u001b[0m\u001b[1;33m=\u001b[0m\u001b[0msort_keys\u001b[0m\u001b[1;33m,\u001b[0m\u001b[1;33m\u001b[0m\u001b[1;33m\u001b[0m\u001b[0m\n\u001b[1;32m--> 238\u001b[1;33m         **kw).encode(obj)\n\u001b[0m\u001b[0;32m    239\u001b[0m \u001b[1;33m\u001b[0m\u001b[0m\n\u001b[0;32m    240\u001b[0m \u001b[1;33m\u001b[0m\u001b[0m\n",
      "\u001b[1;32mC:\\ProgramData\\Anaconda3\\lib\\json\\encoder.py\u001b[0m in \u001b[0;36mencode\u001b[1;34m(self, o)\u001b[0m\n\u001b[0;32m    197\u001b[0m         \u001b[1;31m# exceptions aren't as detailed.  The list call should be roughly\u001b[0m\u001b[1;33m\u001b[0m\u001b[1;33m\u001b[0m\u001b[1;33m\u001b[0m\u001b[0m\n\u001b[0;32m    198\u001b[0m         \u001b[1;31m# equivalent to the PySequence_Fast that ''.join() would do.\u001b[0m\u001b[1;33m\u001b[0m\u001b[1;33m\u001b[0m\u001b[1;33m\u001b[0m\u001b[0m\n\u001b[1;32m--> 199\u001b[1;33m         \u001b[0mchunks\u001b[0m \u001b[1;33m=\u001b[0m \u001b[0mself\u001b[0m\u001b[1;33m.\u001b[0m\u001b[0miterencode\u001b[0m\u001b[1;33m(\u001b[0m\u001b[0mo\u001b[0m\u001b[1;33m,\u001b[0m \u001b[0m_one_shot\u001b[0m\u001b[1;33m=\u001b[0m\u001b[1;32mTrue\u001b[0m\u001b[1;33m)\u001b[0m\u001b[1;33m\u001b[0m\u001b[1;33m\u001b[0m\u001b[0m\n\u001b[0m\u001b[0;32m    200\u001b[0m         \u001b[1;32mif\u001b[0m \u001b[1;32mnot\u001b[0m \u001b[0misinstance\u001b[0m\u001b[1;33m(\u001b[0m\u001b[0mchunks\u001b[0m\u001b[1;33m,\u001b[0m \u001b[1;33m(\u001b[0m\u001b[0mlist\u001b[0m\u001b[1;33m,\u001b[0m \u001b[0mtuple\u001b[0m\u001b[1;33m)\u001b[0m\u001b[1;33m)\u001b[0m\u001b[1;33m:\u001b[0m\u001b[1;33m\u001b[0m\u001b[1;33m\u001b[0m\u001b[0m\n\u001b[0;32m    201\u001b[0m             \u001b[0mchunks\u001b[0m \u001b[1;33m=\u001b[0m \u001b[0mlist\u001b[0m\u001b[1;33m(\u001b[0m\u001b[0mchunks\u001b[0m\u001b[1;33m)\u001b[0m\u001b[1;33m\u001b[0m\u001b[1;33m\u001b[0m\u001b[0m\n",
      "\u001b[1;32mC:\\ProgramData\\Anaconda3\\lib\\json\\encoder.py\u001b[0m in \u001b[0;36miterencode\u001b[1;34m(self, o, _one_shot)\u001b[0m\n\u001b[0;32m    255\u001b[0m                 \u001b[0mself\u001b[0m\u001b[1;33m.\u001b[0m\u001b[0mkey_separator\u001b[0m\u001b[1;33m,\u001b[0m \u001b[0mself\u001b[0m\u001b[1;33m.\u001b[0m\u001b[0mitem_separator\u001b[0m\u001b[1;33m,\u001b[0m \u001b[0mself\u001b[0m\u001b[1;33m.\u001b[0m\u001b[0msort_keys\u001b[0m\u001b[1;33m,\u001b[0m\u001b[1;33m\u001b[0m\u001b[1;33m\u001b[0m\u001b[0m\n\u001b[0;32m    256\u001b[0m                 self.skipkeys, _one_shot)\n\u001b[1;32m--> 257\u001b[1;33m         \u001b[1;32mreturn\u001b[0m \u001b[0m_iterencode\u001b[0m\u001b[1;33m(\u001b[0m\u001b[0mo\u001b[0m\u001b[1;33m,\u001b[0m \u001b[1;36m0\u001b[0m\u001b[1;33m)\u001b[0m\u001b[1;33m\u001b[0m\u001b[1;33m\u001b[0m\u001b[0m\n\u001b[0m\u001b[0;32m    258\u001b[0m \u001b[1;33m\u001b[0m\u001b[0m\n\u001b[0;32m    259\u001b[0m def _make_iterencode(markers, _default, _encoder, _indent, _floatstr,\n",
      "\u001b[1;32mC:\\ProgramData\\Anaconda3\\lib\\json\\encoder.py\u001b[0m in \u001b[0;36mdefault\u001b[1;34m(self, o)\u001b[0m\n\u001b[0;32m    177\u001b[0m \u001b[1;33m\u001b[0m\u001b[0m\n\u001b[0;32m    178\u001b[0m         \"\"\"\n\u001b[1;32m--> 179\u001b[1;33m         raise TypeError(f'Object of type {o.__class__.__name__} '\n\u001b[0m\u001b[0;32m    180\u001b[0m                         f'is not JSON serializable')\n\u001b[0;32m    181\u001b[0m \u001b[1;33m\u001b[0m\u001b[0m\n",
      "\u001b[1;31mTypeError\u001b[0m: Object of type ObjectId is not JSON serializable"
     ]
    },
    {
     "data": {
      "text/plain": [
       "alt.Chart(...)"
      ]
     },
     "execution_count": 67,
     "metadata": {},
     "output_type": "execute_result"
    }
   ],
   "source": [
    "alt.Chart(ether).mark_line().encode(\n",
    "    x='sequence',\n",
    "    y='price'\n",
    ")"
   ]
  },
  {
   "cell_type": "code",
   "execution_count": null,
   "metadata": {},
   "outputs": [],
   "source": []
  }
 ],
 "metadata": {
  "kernelspec": {
   "display_name": "Python 3",
   "language": "python",
   "name": "python3"
  },
  "language_info": {
   "codemirror_mode": {
    "name": "ipython",
    "version": 3
   },
   "file_extension": ".py",
   "mimetype": "text/x-python",
   "name": "python",
   "nbconvert_exporter": "python",
   "pygments_lexer": "ipython3",
   "version": "3.7.4"
  }
 },
 "nbformat": 4,
 "nbformat_minor": 2
}
